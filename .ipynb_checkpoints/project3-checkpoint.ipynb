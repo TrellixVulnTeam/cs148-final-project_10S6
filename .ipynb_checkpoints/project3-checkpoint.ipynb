{
 "cells": [
  {
   "cell_type": "markdown",
   "metadata": {},
   "source": [
    "# CSM148 Project 3"
   ]
  },
  {
   "cell_type": "markdown",
   "metadata": {},
   "source": [
    "## 1. Loading Data and Analysis"
   ]
  },
  {
   "cell_type": "code",
   "execution_count": 120,
   "metadata": {},
   "outputs": [],
   "source": [
    "import pandas as pd\n",
    "import numpy as np\n",
    "import seaborn as sns"
   ]
  },
  {
   "cell_type": "code",
   "execution_count": 121,
   "metadata": {},
   "outputs": [
    {
     "data": {
      "text/html": [
       "<div>\n",
       "<style scoped>\n",
       "    .dataframe tbody tr th:only-of-type {\n",
       "        vertical-align: middle;\n",
       "    }\n",
       "\n",
       "    .dataframe tbody tr th {\n",
       "        vertical-align: top;\n",
       "    }\n",
       "\n",
       "    .dataframe thead th {\n",
       "        text-align: right;\n",
       "    }\n",
       "</style>\n",
       "<table border=\"1\" class=\"dataframe\">\n",
       "  <thead>\n",
       "    <tr style=\"text-align: right;\">\n",
       "      <th></th>\n",
       "      <th>id</th>\n",
       "      <th>gender</th>\n",
       "      <th>age</th>\n",
       "      <th>hypertension</th>\n",
       "      <th>heart_disease</th>\n",
       "      <th>ever_married</th>\n",
       "      <th>work_type</th>\n",
       "      <th>Residence_type</th>\n",
       "      <th>avg_glucose_level</th>\n",
       "      <th>bmi</th>\n",
       "      <th>smoking_status</th>\n",
       "      <th>stroke</th>\n",
       "    </tr>\n",
       "  </thead>\n",
       "  <tbody>\n",
       "    <tr>\n",
       "      <th>0</th>\n",
       "      <td>9046</td>\n",
       "      <td>Male</td>\n",
       "      <td>67.0</td>\n",
       "      <td>0</td>\n",
       "      <td>1</td>\n",
       "      <td>Yes</td>\n",
       "      <td>Private</td>\n",
       "      <td>Urban</td>\n",
       "      <td>228.69</td>\n",
       "      <td>36.6</td>\n",
       "      <td>formerly smoked</td>\n",
       "      <td>1</td>\n",
       "    </tr>\n",
       "    <tr>\n",
       "      <th>1</th>\n",
       "      <td>51676</td>\n",
       "      <td>Female</td>\n",
       "      <td>61.0</td>\n",
       "      <td>0</td>\n",
       "      <td>0</td>\n",
       "      <td>Yes</td>\n",
       "      <td>Self-employed</td>\n",
       "      <td>Rural</td>\n",
       "      <td>202.21</td>\n",
       "      <td>NaN</td>\n",
       "      <td>never smoked</td>\n",
       "      <td>1</td>\n",
       "    </tr>\n",
       "    <tr>\n",
       "      <th>2</th>\n",
       "      <td>31112</td>\n",
       "      <td>Male</td>\n",
       "      <td>80.0</td>\n",
       "      <td>0</td>\n",
       "      <td>1</td>\n",
       "      <td>Yes</td>\n",
       "      <td>Private</td>\n",
       "      <td>Rural</td>\n",
       "      <td>105.92</td>\n",
       "      <td>32.5</td>\n",
       "      <td>never smoked</td>\n",
       "      <td>1</td>\n",
       "    </tr>\n",
       "    <tr>\n",
       "      <th>3</th>\n",
       "      <td>60182</td>\n",
       "      <td>Female</td>\n",
       "      <td>49.0</td>\n",
       "      <td>0</td>\n",
       "      <td>0</td>\n",
       "      <td>Yes</td>\n",
       "      <td>Private</td>\n",
       "      <td>Urban</td>\n",
       "      <td>171.23</td>\n",
       "      <td>34.4</td>\n",
       "      <td>smokes</td>\n",
       "      <td>1</td>\n",
       "    </tr>\n",
       "    <tr>\n",
       "      <th>4</th>\n",
       "      <td>1665</td>\n",
       "      <td>Female</td>\n",
       "      <td>79.0</td>\n",
       "      <td>1</td>\n",
       "      <td>0</td>\n",
       "      <td>Yes</td>\n",
       "      <td>Self-employed</td>\n",
       "      <td>Rural</td>\n",
       "      <td>174.12</td>\n",
       "      <td>24.0</td>\n",
       "      <td>never smoked</td>\n",
       "      <td>1</td>\n",
       "    </tr>\n",
       "  </tbody>\n",
       "</table>\n",
       "</div>"
      ],
      "text/plain": [
       "      id  gender   age  hypertension  heart_disease ever_married  \\\n",
       "0   9046    Male  67.0             0              1          Yes   \n",
       "1  51676  Female  61.0             0              0          Yes   \n",
       "2  31112    Male  80.0             0              1          Yes   \n",
       "3  60182  Female  49.0             0              0          Yes   \n",
       "4   1665  Female  79.0             1              0          Yes   \n",
       "\n",
       "       work_type Residence_type  avg_glucose_level   bmi   smoking_status  \\\n",
       "0        Private          Urban             228.69  36.6  formerly smoked   \n",
       "1  Self-employed          Rural             202.21   NaN     never smoked   \n",
       "2        Private          Rural             105.92  32.5     never smoked   \n",
       "3        Private          Urban             171.23  34.4           smokes   \n",
       "4  Self-employed          Rural             174.12  24.0     never smoked   \n",
       "\n",
       "   stroke  \n",
       "0       1  \n",
       "1       1  \n",
       "2       1  \n",
       "3       1  \n",
       "4       1  "
      ]
     },
     "execution_count": 121,
     "metadata": {},
     "output_type": "execute_result"
    }
   ],
   "source": [
    "raw_data = pd.read_csv('./data/healthcare-dataset-stroke-data.csv')\n",
    "\n",
    "#identify 'Unknown' smoking and 'Other' gender values as Null values\n",
    "raw_data['gender'] = raw_data['gender'].replace({'Other': None})\n",
    "raw_data['smoking_status'] = raw_data['smoking_status'].replace({'Unknown':None})\n",
    "\n",
    "raw_data.head()"
   ]
  },
  {
   "cell_type": "code",
   "execution_count": 122,
   "metadata": {},
   "outputs": [
    {
     "name": "stdout",
     "output_type": "stream",
     "text": [
      "<class 'pandas.core.frame.DataFrame'>\n",
      "RangeIndex: 5110 entries, 0 to 5109\n",
      "Data columns (total 12 columns):\n",
      " #   Column             Non-Null Count  Dtype  \n",
      "---  ------             --------------  -----  \n",
      " 0   id                 5110 non-null   int64  \n",
      " 1   gender             5109 non-null   object \n",
      " 2   age                5110 non-null   float64\n",
      " 3   hypertension       5110 non-null   int64  \n",
      " 4   heart_disease      5110 non-null   int64  \n",
      " 5   ever_married       5110 non-null   object \n",
      " 6   work_type          5110 non-null   object \n",
      " 7   Residence_type     5110 non-null   object \n",
      " 8   avg_glucose_level  5110 non-null   float64\n",
      " 9   bmi                4909 non-null   float64\n",
      " 10  smoking_status     3566 non-null   object \n",
      " 11  stroke             5110 non-null   int64  \n",
      "dtypes: float64(3), int64(4), object(5)\n",
      "memory usage: 479.2+ KB\n"
     ]
    }
   ],
   "source": [
    "raw_data.info()"
   ]
  },
  {
   "cell_type": "code",
   "execution_count": 123,
   "metadata": {},
   "outputs": [
    {
     "name": "stdout",
     "output_type": "stream",
     "text": [
      "<class 'pandas.core.frame.DataFrame'>\n",
      "Int64Index: 5109 entries, 0 to 5109\n",
      "Data columns (total 12 columns):\n",
      " #   Column             Non-Null Count  Dtype  \n",
      "---  ------             --------------  -----  \n",
      " 0   id                 5109 non-null   int64  \n",
      " 1   gender             5109 non-null   int64  \n",
      " 2   age                5109 non-null   float64\n",
      " 3   hypertension       5109 non-null   int64  \n",
      " 4   heart_disease      5109 non-null   int64  \n",
      " 5   ever_married       5109 non-null   int64  \n",
      " 6   work_type          5109 non-null   object \n",
      " 7   Residence_type     5109 non-null   int64  \n",
      " 8   avg_glucose_level  5109 non-null   float64\n",
      " 9   bmi                4908 non-null   float64\n",
      " 10  smoking_status     3565 non-null   object \n",
      " 11  stroke             5109 non-null   int64  \n",
      "dtypes: float64(3), int64(7), object(2)\n",
      "memory usage: 518.9+ KB\n"
     ]
    }
   ],
   "source": [
    "#since ever_married is a binary yes/no column with no missing values, we can easily convert this to numerical values\n",
    "raw_data['ever_married'] = raw_data['ever_married'].replace({\"Yes\":1, \"No\":0})\n",
    "\n",
    "#and since gender has only 1 value of the kind \"Other\", we can drop that row and convert it to a binary value as well.\n",
    "raw_data = raw_data[raw_data['gender'].notna()]\n",
    "raw_data['gender'] = raw_data['gender'].replace({'Male':1, 'Female':0})\n",
    "\n",
    "#Since Residence_type is also a variable with two values we can convert this to binary as well\n",
    "raw_data['Residence_type'] = raw_data['Residence_type'].replace({'Urban':1, 'Rural':0})\n",
    "\n",
    "raw_data.info()"
   ]
  },
  {
   "cell_type": "code",
   "execution_count": 124,
   "metadata": {},
   "outputs": [
    {
     "data": {
      "text/html": [
       "<div>\n",
       "<style scoped>\n",
       "    .dataframe tbody tr th:only-of-type {\n",
       "        vertical-align: middle;\n",
       "    }\n",
       "\n",
       "    .dataframe tbody tr th {\n",
       "        vertical-align: top;\n",
       "    }\n",
       "\n",
       "    .dataframe thead th {\n",
       "        text-align: right;\n",
       "    }\n",
       "</style>\n",
       "<table border=\"1\" class=\"dataframe\">\n",
       "  <thead>\n",
       "    <tr style=\"text-align: right;\">\n",
       "      <th></th>\n",
       "      <th>id</th>\n",
       "      <th>gender</th>\n",
       "      <th>age</th>\n",
       "      <th>hypertension</th>\n",
       "      <th>heart_disease</th>\n",
       "      <th>ever_married</th>\n",
       "      <th>Residence_type</th>\n",
       "      <th>avg_glucose_level</th>\n",
       "      <th>bmi</th>\n",
       "      <th>stroke</th>\n",
       "    </tr>\n",
       "  </thead>\n",
       "  <tbody>\n",
       "    <tr>\n",
       "      <th>count</th>\n",
       "      <td>5109.000000</td>\n",
       "      <td>5109.000000</td>\n",
       "      <td>5109.000000</td>\n",
       "      <td>5109.000000</td>\n",
       "      <td>5109.000000</td>\n",
       "      <td>5109.000000</td>\n",
       "      <td>5109.000000</td>\n",
       "      <td>5109.000000</td>\n",
       "      <td>4908.00000</td>\n",
       "      <td>5109.000000</td>\n",
       "    </tr>\n",
       "    <tr>\n",
       "      <th>mean</th>\n",
       "      <td>36513.985516</td>\n",
       "      <td>0.413975</td>\n",
       "      <td>43.229986</td>\n",
       "      <td>0.097475</td>\n",
       "      <td>0.054022</td>\n",
       "      <td>0.656293</td>\n",
       "      <td>0.508123</td>\n",
       "      <td>106.140399</td>\n",
       "      <td>28.89456</td>\n",
       "      <td>0.048738</td>\n",
       "    </tr>\n",
       "    <tr>\n",
       "      <th>std</th>\n",
       "      <td>21162.008804</td>\n",
       "      <td>0.492592</td>\n",
       "      <td>22.613575</td>\n",
       "      <td>0.296633</td>\n",
       "      <td>0.226084</td>\n",
       "      <td>0.474991</td>\n",
       "      <td>0.499983</td>\n",
       "      <td>45.285004</td>\n",
       "      <td>7.85432</td>\n",
       "      <td>0.215340</td>\n",
       "    </tr>\n",
       "    <tr>\n",
       "      <th>min</th>\n",
       "      <td>67.000000</td>\n",
       "      <td>0.000000</td>\n",
       "      <td>0.080000</td>\n",
       "      <td>0.000000</td>\n",
       "      <td>0.000000</td>\n",
       "      <td>0.000000</td>\n",
       "      <td>0.000000</td>\n",
       "      <td>55.120000</td>\n",
       "      <td>10.30000</td>\n",
       "      <td>0.000000</td>\n",
       "    </tr>\n",
       "    <tr>\n",
       "      <th>25%</th>\n",
       "      <td>17740.000000</td>\n",
       "      <td>0.000000</td>\n",
       "      <td>25.000000</td>\n",
       "      <td>0.000000</td>\n",
       "      <td>0.000000</td>\n",
       "      <td>0.000000</td>\n",
       "      <td>0.000000</td>\n",
       "      <td>77.240000</td>\n",
       "      <td>23.50000</td>\n",
       "      <td>0.000000</td>\n",
       "    </tr>\n",
       "    <tr>\n",
       "      <th>50%</th>\n",
       "      <td>36922.000000</td>\n",
       "      <td>0.000000</td>\n",
       "      <td>45.000000</td>\n",
       "      <td>0.000000</td>\n",
       "      <td>0.000000</td>\n",
       "      <td>1.000000</td>\n",
       "      <td>1.000000</td>\n",
       "      <td>91.880000</td>\n",
       "      <td>28.10000</td>\n",
       "      <td>0.000000</td>\n",
       "    </tr>\n",
       "    <tr>\n",
       "      <th>75%</th>\n",
       "      <td>54643.000000</td>\n",
       "      <td>1.000000</td>\n",
       "      <td>61.000000</td>\n",
       "      <td>0.000000</td>\n",
       "      <td>0.000000</td>\n",
       "      <td>1.000000</td>\n",
       "      <td>1.000000</td>\n",
       "      <td>114.090000</td>\n",
       "      <td>33.10000</td>\n",
       "      <td>0.000000</td>\n",
       "    </tr>\n",
       "    <tr>\n",
       "      <th>max</th>\n",
       "      <td>72940.000000</td>\n",
       "      <td>1.000000</td>\n",
       "      <td>82.000000</td>\n",
       "      <td>1.000000</td>\n",
       "      <td>1.000000</td>\n",
       "      <td>1.000000</td>\n",
       "      <td>1.000000</td>\n",
       "      <td>271.740000</td>\n",
       "      <td>97.60000</td>\n",
       "      <td>1.000000</td>\n",
       "    </tr>\n",
       "  </tbody>\n",
       "</table>\n",
       "</div>"
      ],
      "text/plain": [
       "                 id       gender          age  hypertension  heart_disease  \\\n",
       "count   5109.000000  5109.000000  5109.000000   5109.000000    5109.000000   \n",
       "mean   36513.985516     0.413975    43.229986      0.097475       0.054022   \n",
       "std    21162.008804     0.492592    22.613575      0.296633       0.226084   \n",
       "min       67.000000     0.000000     0.080000      0.000000       0.000000   \n",
       "25%    17740.000000     0.000000    25.000000      0.000000       0.000000   \n",
       "50%    36922.000000     0.000000    45.000000      0.000000       0.000000   \n",
       "75%    54643.000000     1.000000    61.000000      0.000000       0.000000   \n",
       "max    72940.000000     1.000000    82.000000      1.000000       1.000000   \n",
       "\n",
       "       ever_married  Residence_type  avg_glucose_level         bmi  \\\n",
       "count   5109.000000     5109.000000        5109.000000  4908.00000   \n",
       "mean       0.656293        0.508123         106.140399    28.89456   \n",
       "std        0.474991        0.499983          45.285004     7.85432   \n",
       "min        0.000000        0.000000          55.120000    10.30000   \n",
       "25%        0.000000        0.000000          77.240000    23.50000   \n",
       "50%        1.000000        1.000000          91.880000    28.10000   \n",
       "75%        1.000000        1.000000         114.090000    33.10000   \n",
       "max        1.000000        1.000000         271.740000    97.60000   \n",
       "\n",
       "            stroke  \n",
       "count  5109.000000  \n",
       "mean      0.048738  \n",
       "std       0.215340  \n",
       "min       0.000000  \n",
       "25%       0.000000  \n",
       "50%       0.000000  \n",
       "75%       0.000000  \n",
       "max       1.000000  "
      ]
     },
     "execution_count": 124,
     "metadata": {},
     "output_type": "execute_result"
    }
   ],
   "source": [
    "raw_data.describe()"
   ]
  },
  {
   "cell_type": "code",
   "execution_count": 125,
   "metadata": {},
   "outputs": [
    {
     "data": {
      "text/plain": [
       "array([[<matplotlib.axes._subplots.AxesSubplot object at 0x7f8f1e84bf10>,\n",
       "        <matplotlib.axes._subplots.AxesSubplot object at 0x7f8f3b8535b0>,\n",
       "        <matplotlib.axes._subplots.AxesSubplot object at 0x7f8f3b87ad00>],\n",
       "       [<matplotlib.axes._subplots.AxesSubplot object at 0x7f8f1e8fe4f0>,\n",
       "        <matplotlib.axes._subplots.AxesSubplot object at 0x7f8f1e989c70>,\n",
       "        <matplotlib.axes._subplots.AxesSubplot object at 0x7f8f1e9c0370>],\n",
       "       [<matplotlib.axes._subplots.AxesSubplot object at 0x7f8f1e9c0460>,\n",
       "        <matplotlib.axes._subplots.AxesSubplot object at 0x7f8f1e9e8c10>,\n",
       "        <matplotlib.axes._subplots.AxesSubplot object at 0x7f8f1ea4aac0>],\n",
       "       [<matplotlib.axes._subplots.AxesSubplot object at 0x7f8f1ea7e280>,\n",
       "        <matplotlib.axes._subplots.AxesSubplot object at 0x7f8f1eaa7940>,\n",
       "        <matplotlib.axes._subplots.AxesSubplot object at 0x7f8f1eacf2b0>]],\n",
       "      dtype=object)"
      ]
     },
     "execution_count": 125,
     "metadata": {},
     "output_type": "execute_result"
    },
    {
     "data": {
      "image/png": "[encoded data removed]",
      "text/plain": [
       "<Figure size 1440x1080 with 12 Axes>"
      ]
     },
     "metadata": {
      "needs_background": "light"
     },
     "output_type": "display_data"
    }
   ],
   "source": [
    "raw_data.hist(bins=50,figsize=(20,15))"
   ]
  },
  {
   "cell_type": "markdown",
   "metadata": {},
   "source": [
    "Its interesting to note here that the dataset is imbalanced, with a huge majority of datapoints labeled negative for a stroke rather than positive. "
   ]
  },
  {
   "cell_type": "code",
   "execution_count": 126,
   "metadata": {},
   "outputs": [
    {
     "data": {
      "text/plain": [
       "<matplotlib.axes._subplots.AxesSubplot at 0x7f8f1f1b45b0>"
      ]
     },
     "execution_count": 126,
     "metadata": {},
     "output_type": "execute_result"
    },
    {
     "data": {
      "image/png": "[encoded data removed]",
      "text/plain": [
       "<Figure size 432x288 with 1 Axes>"
      ]
     },
     "metadata": {
      "needs_background": "light"
     },
     "output_type": "display_data"
    }
   ],
   "source": [
    "raw_data['work_type'].value_counts().plot.bar()"
   ]
  },
  {
   "cell_type": "code",
   "execution_count": 127,
   "metadata": {},
   "outputs": [
    {
     "data": {
      "text/plain": [
       "<matplotlib.axes._subplots.AxesSubplot at 0x7f8f1f3c4670>"
      ]
     },
     "execution_count": 127,
     "metadata": {},
     "output_type": "execute_result"
    },
    {
     "data": {
      "image/png": "[encoded data removed]",
      "text/plain": [
       "<Figure size 432x288 with 1 Axes>"
      ]
     },
     "metadata": {
      "needs_background": "light"
     },
     "output_type": "display_data"
    }
   ],
   "source": [
    "raw_data['smoking_status'].value_counts().plot.bar()"
   ]
  },
  {
   "cell_type": "code",
   "execution_count": 128,
   "metadata": {},
   "outputs": [
    {
     "name": "stdout",
     "output_type": "stream",
     "text": [
      "<class 'pandas.core.frame.DataFrame'>\n",
      "Int64Index: 5109 entries, 0 to 5109\n",
      "Data columns (total 11 columns):\n",
      " #   Column             Non-Null Count  Dtype  \n",
      "---  ------             --------------  -----  \n",
      " 0   gender             5109 non-null   int64  \n",
      " 1   age                5109 non-null   float64\n",
      " 2   hypertension       5109 non-null   int64  \n",
      " 3   heart_disease      5109 non-null   int64  \n",
      " 4   ever_married       5109 non-null   int64  \n",
      " 5   work_type          5109 non-null   int64  \n",
      " 6   Residence_type     5109 non-null   int64  \n",
      " 7   avg_glucose_level  5109 non-null   float64\n",
      " 8   bmi                4908 non-null   float64\n",
      " 9   smoking_status     3565 non-null   float64\n",
      " 10  stroke             5109 non-null   int64  \n",
      "dtypes: float64(4), int64(7)\n",
      "memory usage: 479.0 KB\n"
     ]
    },
    {
     "data": {
      "text/plain": [
       "<matplotlib.axes._subplots.AxesSubplot at 0x7f8f1f4086d0>"
      ]
     },
     "execution_count": 128,
     "metadata": {},
     "output_type": "execute_result"
    },
    {
     "data": {
      "image/png": "[encoded data removed]",
      "text/plain": [
       "<Figure size 432x288 with 2 Axes>"
      ]
     },
     "metadata": {
      "needs_background": "light"
     },
     "output_type": "display_data"
    }
   ],
   "source": [
    "#in order to consider categorical variables for the correlation matrix we can temporarily bin them into numerical categories\n",
    "corr_data = raw_data.drop(columns=['id'])\n",
    "corr_data['work_type'] = corr_data['work_type'].replace({'children':0,'Govt_job':1,'Never_worked':2,'Private':3,'Self-employed':4})\n",
    "corr_data['smoking_status'] = corr_data['smoking_status'].replace({'never smoked':0, 'formerly smoked':1, 'smokes': 2})\n",
    "\n",
    "corr_data.info()\n",
    "corr_mat = corr_data.corr()\n",
    "sns.heatmap(corr_mat)"
   ]
  },
  {
   "cell_type": "markdown",
   "metadata": {},
   "source": [
    "It's interesting to see here that a majority of our values are not heavily correlated with each other. The lack of correlation of a single factor to stroke may also be because of the dataset imbalance. Age and ever_married are understandingly correlated to an extent, as well as age and work_type. However, the second is less reliable because it is not appropriately encoded yet. "
   ]
  },
  {
   "cell_type": "markdown",
   "metadata": {},
   "source": [
    "## 2. Data Augmentation, Processing and Pipelining"
   ]
  },
  {
   "cell_type": "code",
   "execution_count": 129,
   "metadata": {},
   "outputs": [],
   "source": [
    "#since id is just a random identifier, it is irrelevant to our dataset\n",
    "processed_data = raw_data.drop(columns=['id'])\n",
    "\n",
    "#since smoking_status has a number of null-values, we are forced to drop rows with those values, since there is no logical way to impute a value for these data points without introducing bias\n",
    "processed_data = processed_data[processed_data['smoking_status'].notna()]\n",
    "\n",
    "#since undersampling bmi does not reduce the size of the dataset further by much, it may be the best idea to impute this feature by dropping rows in order to not introduce bias.\n",
    "processed_data = processed_data[processed_data['bmi'].notna()]"
   ]
  },
  {
   "cell_type": "code",
   "execution_count": 130,
   "metadata": {},
   "outputs": [
    {
     "name": "stdout",
     "output_type": "stream",
     "text": [
      "<class 'pandas.core.frame.DataFrame'>\n",
      "Int64Index: 3425 entries, 0 to 5108\n",
      "Data columns (total 11 columns):\n",
      " #   Column             Non-Null Count  Dtype  \n",
      "---  ------             --------------  -----  \n",
      " 0   gender             3425 non-null   int64  \n",
      " 1   age                3425 non-null   float64\n",
      " 2   hypertension       3425 non-null   int64  \n",
      " 3   heart_disease      3425 non-null   int64  \n",
      " 4   ever_married       3425 non-null   int64  \n",
      " 5   work_type          3425 non-null   object \n",
      " 6   Residence_type     3425 non-null   int64  \n",
      " 7   avg_glucose_level  3425 non-null   float64\n",
      " 8   bmi                3425 non-null   float64\n",
      " 9   smoking_status     3425 non-null   object \n",
      " 10  stroke             3425 non-null   int64  \n",
      "dtypes: float64(3), int64(6), object(2)\n",
      "memory usage: 321.1+ KB\n"
     ]
    }
   ],
   "source": [
    "processed_data.info()"
   ]
  },
  {
   "cell_type": "markdown",
   "metadata": {},
   "source": [
    "Since bad health at a high age is a particular risk for health disorders, it may be relevant to perform a feature cross between indicators of bad health and age."
   ]
  },
  {
   "cell_type": "code",
   "execution_count": 131,
   "metadata": {},
   "outputs": [],
   "source": [
    "#Data Augmentation 1\n",
    "\n",
    "#Feature Cross Age and BMI:\n",
    "processed_data['bmi_age'] = processed_data['bmi']*processed_data['age']"
   ]
  },
  {
   "cell_type": "code",
   "execution_count": 132,
   "metadata": {},
   "outputs": [],
   "source": [
    "#Data Augmentation 2\n",
    "\n",
    "#Feature Cross Age and Average Glucose Level:\n",
    "processed_data['glucose_age'] = processed_data['avg_glucose_level']*processed_data['age']"
   ]
  },
  {
   "cell_type": "code",
   "execution_count": 133,
   "metadata": {},
   "outputs": [
    {
     "data": {
      "text/html": [
       "<div>\n",
       "<style scoped>\n",
       "    .dataframe tbody tr th:only-of-type {\n",
       "        vertical-align: middle;\n",
       "    }\n",
       "\n",
       "    .dataframe tbody tr th {\n",
       "        vertical-align: top;\n",
       "    }\n",
       "\n",
       "    .dataframe thead th {\n",
       "        text-align: right;\n",
       "    }\n",
       "</style>\n",
       "<table border=\"1\" class=\"dataframe\">\n",
       "  <thead>\n",
       "    <tr style=\"text-align: right;\">\n",
       "      <th></th>\n",
       "      <th>gender</th>\n",
       "      <th>age</th>\n",
       "      <th>hypertension</th>\n",
       "      <th>heart_disease</th>\n",
       "      <th>ever_married</th>\n",
       "      <th>work_type</th>\n",
       "      <th>Residence_type</th>\n",
       "      <th>avg_glucose_level</th>\n",
       "      <th>bmi</th>\n",
       "      <th>smoking_status</th>\n",
       "      <th>bmi_age</th>\n",
       "      <th>glucose_age</th>\n",
       "    </tr>\n",
       "  </thead>\n",
       "  <tbody>\n",
       "    <tr>\n",
       "      <th>0</th>\n",
       "      <td>1</td>\n",
       "      <td>67.0</td>\n",
       "      <td>0</td>\n",
       "      <td>1</td>\n",
       "      <td>1</td>\n",
       "      <td>Private</td>\n",
       "      <td>1</td>\n",
       "      <td>228.69</td>\n",
       "      <td>36.6</td>\n",
       "      <td>formerly smoked</td>\n",
       "      <td>2452.2</td>\n",
       "      <td>15322.23</td>\n",
       "    </tr>\n",
       "    <tr>\n",
       "      <th>2</th>\n",
       "      <td>1</td>\n",
       "      <td>80.0</td>\n",
       "      <td>0</td>\n",
       "      <td>1</td>\n",
       "      <td>1</td>\n",
       "      <td>Private</td>\n",
       "      <td>0</td>\n",
       "      <td>105.92</td>\n",
       "      <td>32.5</td>\n",
       "      <td>never smoked</td>\n",
       "      <td>2600.0</td>\n",
       "      <td>8473.60</td>\n",
       "    </tr>\n",
       "    <tr>\n",
       "      <th>3</th>\n",
       "      <td>0</td>\n",
       "      <td>49.0</td>\n",
       "      <td>0</td>\n",
       "      <td>0</td>\n",
       "      <td>1</td>\n",
       "      <td>Private</td>\n",
       "      <td>1</td>\n",
       "      <td>171.23</td>\n",
       "      <td>34.4</td>\n",
       "      <td>smokes</td>\n",
       "      <td>1685.6</td>\n",
       "      <td>8390.27</td>\n",
       "    </tr>\n",
       "    <tr>\n",
       "      <th>4</th>\n",
       "      <td>0</td>\n",
       "      <td>79.0</td>\n",
       "      <td>1</td>\n",
       "      <td>0</td>\n",
       "      <td>1</td>\n",
       "      <td>Self-employed</td>\n",
       "      <td>0</td>\n",
       "      <td>174.12</td>\n",
       "      <td>24.0</td>\n",
       "      <td>never smoked</td>\n",
       "      <td>1896.0</td>\n",
       "      <td>13755.48</td>\n",
       "    </tr>\n",
       "    <tr>\n",
       "      <th>5</th>\n",
       "      <td>1</td>\n",
       "      <td>81.0</td>\n",
       "      <td>0</td>\n",
       "      <td>0</td>\n",
       "      <td>1</td>\n",
       "      <td>Private</td>\n",
       "      <td>1</td>\n",
       "      <td>186.21</td>\n",
       "      <td>29.0</td>\n",
       "      <td>formerly smoked</td>\n",
       "      <td>2349.0</td>\n",
       "      <td>15083.01</td>\n",
       "    </tr>\n",
       "  </tbody>\n",
       "</table>\n",
       "</div>"
      ],
      "text/plain": [
       "   gender   age  hypertension  heart_disease  ever_married      work_type  \\\n",
       "0       1  67.0             0              1             1        Private   \n",
       "2       1  80.0             0              1             1        Private   \n",
       "3       0  49.0             0              0             1        Private   \n",
       "4       0  79.0             1              0             1  Self-employed   \n",
       "5       1  81.0             0              0             1        Private   \n",
       "\n",
       "   Residence_type  avg_glucose_level   bmi   smoking_status  bmi_age  \\\n",
       "0               1             228.69  36.6  formerly smoked   2452.2   \n",
       "2               0             105.92  32.5     never smoked   2600.0   \n",
       "3               1             171.23  34.4           smokes   1685.6   \n",
       "4               0             174.12  24.0     never smoked   1896.0   \n",
       "5               1             186.21  29.0  formerly smoked   2349.0   \n",
       "\n",
       "   glucose_age  \n",
       "0     15322.23  \n",
       "2      8473.60  \n",
       "3      8390.27  \n",
       "4     13755.48  \n",
       "5     15083.01  "
      ]
     },
     "execution_count": 133,
     "metadata": {},
     "output_type": "execute_result"
    }
   ],
   "source": [
    "labels = processed_data['stroke']\n",
    "processed_data.drop(columns=['stroke'], inplace=True)\n",
    "processed_data.head()"
   ]
  },
  {
   "cell_type": "markdown",
   "metadata": {},
   "source": [
    "It would also be interesting to see how our models do when treating smoking_status as an ordinal variable, instead of one-hot encoding it. Therefore, it may be worth testing our models with smoking_status treated in both those ways."
   ]
  },
  {
   "cell_type": "code",
   "execution_count": 134,
   "metadata": {},
   "outputs": [
    {
     "data": {
      "text/html": [
       "<div>\n",
       "<style scoped>\n",
       "    .dataframe tbody tr th:only-of-type {\n",
       "        vertical-align: middle;\n",
       "    }\n",
       "\n",
       "    .dataframe tbody tr th {\n",
       "        vertical-align: top;\n",
       "    }\n",
       "\n",
       "    .dataframe thead th {\n",
       "        text-align: right;\n",
       "    }\n",
       "</style>\n",
       "<table border=\"1\" class=\"dataframe\">\n",
       "  <thead>\n",
       "    <tr style=\"text-align: right;\">\n",
       "      <th></th>\n",
       "      <th>gender</th>\n",
       "      <th>age</th>\n",
       "      <th>hypertension</th>\n",
       "      <th>heart_disease</th>\n",
       "      <th>ever_married</th>\n",
       "      <th>Residence_type</th>\n",
       "      <th>avg_glucose_level</th>\n",
       "      <th>bmi</th>\n",
       "      <th>bmi_age</th>\n",
       "      <th>glucose_age</th>\n",
       "      <th>work_type_Govt_job</th>\n",
       "      <th>work_type_Never_worked</th>\n",
       "      <th>work_type_Private</th>\n",
       "      <th>work_type_Self-employed</th>\n",
       "      <th>work_type_children</th>\n",
       "      <th>smoking_status_formerly smoked</th>\n",
       "      <th>smoking_status_never smoked</th>\n",
       "      <th>smoking_status_smokes</th>\n",
       "    </tr>\n",
       "  </thead>\n",
       "  <tbody>\n",
       "    <tr>\n",
       "      <th>0</th>\n",
       "      <td>1.248150</td>\n",
       "      <td>0.973480</td>\n",
       "      <td>-0.367741</td>\n",
       "      <td>3.953001</td>\n",
       "      <td>0.56375</td>\n",
       "      <td>0.981199</td>\n",
       "      <td>2.523666</td>\n",
       "      <td>0.864688</td>\n",
       "      <td>1.455755</td>\n",
       "      <td>2.575993</td>\n",
       "      <td>-0.420204</td>\n",
       "      <td>-0.064065</td>\n",
       "      <td>0.746203</td>\n",
       "      <td>-0.474304</td>\n",
       "      <td>-0.142324</td>\n",
       "      <td>1.759798</td>\n",
       "      <td>-1.085066</td>\n",
       "      <td>-0.523623</td>\n",
       "    </tr>\n",
       "    <tr>\n",
       "      <th>2</th>\n",
       "      <td>1.248150</td>\n",
       "      <td>1.663236</td>\n",
       "      <td>-0.367741</td>\n",
       "      <td>3.953001</td>\n",
       "      <td>0.56375</td>\n",
       "      <td>-1.019162</td>\n",
       "      <td>-0.050140</td>\n",
       "      <td>0.302637</td>\n",
       "      <td>1.678144</td>\n",
       "      <td>0.783513</td>\n",
       "      <td>-0.420204</td>\n",
       "      <td>-0.064065</td>\n",
       "      <td>0.746203</td>\n",
       "      <td>-0.474304</td>\n",
       "      <td>-0.142324</td>\n",
       "      <td>-0.568247</td>\n",
       "      <td>0.921603</td>\n",
       "      <td>-0.523623</td>\n",
       "    </tr>\n",
       "    <tr>\n",
       "      <th>3</th>\n",
       "      <td>-0.801186</td>\n",
       "      <td>0.018435</td>\n",
       "      <td>-0.367741</td>\n",
       "      <td>-0.252972</td>\n",
       "      <td>0.56375</td>\n",
       "      <td>0.981199</td>\n",
       "      <td>1.319048</td>\n",
       "      <td>0.563100</td>\n",
       "      <td>0.302279</td>\n",
       "      <td>0.761704</td>\n",
       "      <td>-0.420204</td>\n",
       "      <td>-0.064065</td>\n",
       "      <td>0.746203</td>\n",
       "      <td>-0.474304</td>\n",
       "      <td>-0.142324</td>\n",
       "      <td>-0.568247</td>\n",
       "      <td>-1.085066</td>\n",
       "      <td>1.909769</td>\n",
       "    </tr>\n",
       "    <tr>\n",
       "      <th>4</th>\n",
       "      <td>-0.801186</td>\n",
       "      <td>1.610178</td>\n",
       "      <td>2.719303</td>\n",
       "      <td>-0.252972</td>\n",
       "      <td>0.56375</td>\n",
       "      <td>-1.019162</td>\n",
       "      <td>1.379636</td>\n",
       "      <td>-0.862591</td>\n",
       "      <td>0.618861</td>\n",
       "      <td>2.165930</td>\n",
       "      <td>-0.420204</td>\n",
       "      <td>-0.064065</td>\n",
       "      <td>-1.340119</td>\n",
       "      <td>2.108353</td>\n",
       "      <td>-0.142324</td>\n",
       "      <td>-0.568247</td>\n",
       "      <td>0.921603</td>\n",
       "      <td>-0.523623</td>\n",
       "    </tr>\n",
       "    <tr>\n",
       "      <th>5</th>\n",
       "      <td>1.248150</td>\n",
       "      <td>1.716294</td>\n",
       "      <td>-0.367741</td>\n",
       "      <td>-0.252972</td>\n",
       "      <td>0.56375</td>\n",
       "      <td>0.981199</td>\n",
       "      <td>1.633096</td>\n",
       "      <td>-0.177163</td>\n",
       "      <td>1.300474</td>\n",
       "      <td>2.513382</td>\n",
       "      <td>-0.420204</td>\n",
       "      <td>-0.064065</td>\n",
       "      <td>0.746203</td>\n",
       "      <td>-0.474304</td>\n",
       "      <td>-0.142324</td>\n",
       "      <td>1.759798</td>\n",
       "      <td>-1.085066</td>\n",
       "      <td>-0.523623</td>\n",
       "    </tr>\n",
       "  </tbody>\n",
       "</table>\n",
       "</div>"
      ],
      "text/plain": [
       "     gender       age  hypertension  heart_disease  ever_married  \\\n",
       "0  1.248150  0.973480     -0.367741       3.953001       0.56375   \n",
       "2  1.248150  1.663236     -0.367741       3.953001       0.56375   \n",
       "3 -0.801186  0.018435     -0.367741      -0.252972       0.56375   \n",
       "4 -0.801186  1.610178      2.719303      -0.252972       0.56375   \n",
       "5  1.248150  1.716294     -0.367741      -0.252972       0.56375   \n",
       "\n",
       "   Residence_type  avg_glucose_level       bmi   bmi_age  glucose_age  \\\n",
       "0        0.981199           2.523666  0.864688  1.455755     2.575993   \n",
       "2       -1.019162          -0.050140  0.302637  1.678144     0.783513   \n",
       "3        0.981199           1.319048  0.563100  0.302279     0.761704   \n",
       "4       -1.019162           1.379636 -0.862591  0.618861     2.165930   \n",
       "5        0.981199           1.633096 -0.177163  1.300474     2.513382   \n",
       "\n",
       "   work_type_Govt_job  work_type_Never_worked  work_type_Private  \\\n",
       "0           -0.420204               -0.064065           0.746203   \n",
       "2           -0.420204               -0.064065           0.746203   \n",
       "3           -0.420204               -0.064065           0.746203   \n",
       "4           -0.420204               -0.064065          -1.340119   \n",
       "5           -0.420204               -0.064065           0.746203   \n",
       "\n",
       "   work_type_Self-employed  work_type_children  \\\n",
       "0                -0.474304           -0.142324   \n",
       "2                -0.474304           -0.142324   \n",
       "3                -0.474304           -0.142324   \n",
       "4                 2.108353           -0.142324   \n",
       "5                -0.474304           -0.142324   \n",
       "\n",
       "   smoking_status_formerly smoked  smoking_status_never smoked  \\\n",
       "0                        1.759798                    -1.085066   \n",
       "2                       -0.568247                     0.921603   \n",
       "3                       -0.568247                    -1.085066   \n",
       "4                       -0.568247                     0.921603   \n",
       "5                        1.759798                    -1.085066   \n",
       "\n",
       "   smoking_status_smokes  \n",
       "0              -0.523623  \n",
       "2              -0.523623  \n",
       "3               1.909769  \n",
       "4              -0.523623  \n",
       "5              -0.523623  "
      ]
     },
     "execution_count": 134,
     "metadata": {},
     "output_type": "execute_result"
    }
   ],
   "source": [
    "from sklearn.compose import ColumnTransformer\n",
    "from sklearn.preprocessing import StandardScaler\n",
    "from sklearn.preprocessing import OneHotEncoder\n",
    "\n",
    "categorical_features = processed_data.select_dtypes(include=['object']).columns\n",
    "\n",
    "scaler = StandardScaler()\n",
    "X = processed_data\n",
    "\n",
    "#chose this method of pipelining, to keep column names after transforms\n",
    "for c in categorical_features:\n",
    "    X = pd.concat([X,pd.get_dummies(X[c], prefix=c)],axis=1)\n",
    "    X.drop(columns=[c], inplace=True)\n",
    "\n",
    "X[X.columns] = scaler.fit_transform(X[X.columns])\n",
    "y = labels\n",
    "column_labels = X.columns\n",
    "\n",
    "X.head()\n"
   ]
  },
  {
   "cell_type": "code",
   "execution_count": 135,
   "metadata": {},
   "outputs": [],
   "source": [
    "from sklearn.model_selection import train_test_split\n",
    "\n",
    "#create train test split for models\n",
    "X_train, X_test, y_train, y_test = train_test_split(X, y, test_size=0.2,stratify=y,random_state=42)\n"
   ]
  },
  {
   "cell_type": "code",
   "execution_count": 136,
   "metadata": {},
   "outputs": [
    {
     "name": "stdout",
     "output_type": "stream",
     "text": [
      "train label counts:  {0: 2596, 1: 144}\n",
      "train label proportion:  0.052554744525547446\n",
      "test label counts:  {0: 649, 1: 36}\n",
      "test label proportion:  0.052554744525547446\n"
     ]
    }
   ],
   "source": [
    "#verify that both splits contain an identical proportion of class labels.\n",
    "train_unique, train_counts = np.unique(y_train, return_counts=True)\n",
    "train_prop = dict(zip(train_unique, train_counts))\n",
    "\n",
    "test_unique, test_counts = np.unique(y_test, return_counts=True)\n",
    "test_prop = dict(zip(test_unique, test_counts))\n",
    "\n",
    "print('train label counts: ', train_prop)\n",
    "print('train label proportion: ', train_prop[1]/(train_prop[0]+train_prop[1]))\n",
    "print('test label counts: ', test_prop)\n",
    "print('test label proportion: ', test_prop[1]/(test_prop[0]+test_prop[1]))"
   ]
  },
  {
   "cell_type": "markdown",
   "metadata": {},
   "source": [
    "### Balancing The Train Data"
   ]
  },
  {
   "cell_type": "code",
   "execution_count": 137,
   "metadata": {},
   "outputs": [
    {
     "name": "stdout",
     "output_type": "stream",
     "text": [
      "balanced label counts:  {0: 2596, 1: 2596}\n",
      "balanced label proportion:  0.5\n"
     ]
    }
   ],
   "source": [
    "from imblearn.over_sampling import SMOTE\n",
    "sm = SMOTE(random_state=42)\n",
    "X_train_bal, y_train_bal = sm.fit_resample(X_train, y_train)\n",
    "\n",
    "unique, counts = np.unique(y_train_bal, return_counts=True)\n",
    "prop = dict(zip(unique, counts))\n",
    "\n",
    "print('balanced label counts: ', prop)\n",
    "print('balanced label proportion: ', prop[1]/(prop[0]+prop[1]))\n",
    "\n"
   ]
  },
  {
   "cell_type": "markdown",
   "metadata": {},
   "source": [
    "## 3. Error Scores Helper"
   ]
  },
  {
   "cell_type": "code",
   "execution_count": 138,
   "metadata": {},
   "outputs": [],
   "source": [
    "from sklearn import metrics\n",
    "import matplotlib.pyplot as plt\n",
    "\n",
    "def test_classifier(clf, X_test, y_test):\n",
    "    y_pred = clf.predict(X_test)\n",
    "    print(\"Accuracy: \", metrics.accuracy_score(y_test, y_pred))\n",
    "    print(\"Precision: \", metrics.precision_score(y_test, y_pred))\n",
    "    print(\"Recall: \", metrics.recall_score(y_test, y_pred))\n",
    "    print(\"F1 Score: \", metrics.f1_score(y_test, y_pred))\n",
    "    metrics.plot_confusion_matrix(clf, X_test, y_test)\n",
    "    "
   ]
  },
  {
   "cell_type": "markdown",
   "metadata": {},
   "source": [
    "## 4. Logistic Regression"
   ]
  },
  {
   "cell_type": "code",
   "execution_count": 144,
   "metadata": {},
   "outputs": [
    {
     "name": "stdout",
     "output_type": "stream",
     "text": [
      "Feature: gender , Score: -0.19405\n",
      "Feature: age , Score: 1.45911\n",
      "Feature: hypertension , Score: 0.23221\n",
      "Feature: heart_disease , Score: 0.11409\n",
      "Feature: ever_married , Score: 0.01612\n",
      "Feature: Residence_type , Score: 0.13929\n",
      "Feature: avg_glucose_level , Score: -0.03992\n",
      "Feature: bmi , Score: -0.07424\n",
      "Feature: bmi_age , Score: 0.13258\n",
      "Feature: glucose_age , Score: 0.29813\n",
      "Feature: work_type_Govt_job , Score: -0.02701\n",
      "Feature: work_type_Never_worked , Score: -0.16143\n",
      "Feature: work_type_Private , Score: 0.21522\n",
      "Feature: work_type_Self-employed , Score: -0.10398\n",
      "Feature: work_type_children , Score: -0.30787\n",
      "Feature: smoking_status_formerly smoked , Score: 0.02762\n",
      "Feature: smoking_status_never smoked , Score: -0.04607\n",
      "Feature: smoking_status_smokes , Score: 0.02700\n"
     ]
    },
    {
     "data": {
      "image/png": "[encoded data removed]",
      "text/plain": [
       "<Figure size 432x288 with 1 Axes>"
      ]
     },
     "metadata": {
      "needs_background": "light"
     },
     "output_type": "display_data"
    },
    {
     "name": "stdout",
     "output_type": "stream",
     "text": [
      "train scores:\n",
      "Accuracy:  0.7815870570107858\n",
      "Precision:  0.7621951219512195\n",
      "Recall:  0.8185670261941448\n",
      "F1 Score:  0.7893759286775631\n"
     ]
    },
    {
     "data": {
      "image/png": "[encoded data removed]",
      "text/plain": [
       "<Figure size 432x288 with 2 Axes>"
      ]
     },
     "metadata": {
      "needs_background": "light"
     },
     "output_type": "display_data"
    },
    {
     "name": "stdout",
     "output_type": "stream",
     "text": [
      "test scores:\n",
      "Accuracy:  0.743065693430657\n",
      "Precision:  0.13541666666666666\n",
      "Recall:  0.7222222222222222\n",
      "F1 Score:  0.22807017543859648\n"
     ]
    },
    {
     "data": {
      "image/png": "[encoded data removed]",
      "text/plain": [
       "<Figure size 432x288 with 2 Axes>"
      ]
     },
     "metadata": {
      "needs_background": "light"
     },
     "output_type": "display_data"
    }
   ],
   "source": [
    "from sklearn.linear_model import LogisticRegression\n",
    "log_clf = LogisticRegression(random_state=42).fit(X_train_bal, y_train_bal)\n",
    "\n",
    "# get importance\n",
    "importance = log_clf.coef_[0]\n",
    "# summarize feature importance\n",
    "for i,v in enumerate(importance):\n",
    "    print('Feature:',column_labels[i],', Score: %.5f' % (v))\n",
    "# plot feature importance\n",
    "plt.barh(column_labels, importance)\n",
    "plt.show()\n",
    "\n",
    "print('train scores:')\n",
    "test_classifier(log_clf, X_train_bal, y_train_bal)\n",
    "plt.show()\n",
    "print('test scores:')\n",
    "test_classifier(log_clf, X_test, y_test)\n",
    "plt.show()"
   ]
  },
  {
   "cell_type": "code",
   "execution_count": null,
   "metadata": {},
   "outputs": [],
   "source": []
  }
 ],
 "metadata": {
  "kernelspec": {
   "display_name": "Python 3",
   "language": "python",
   "name": "python3"
  },
  "language_info": {
   "codemirror_mode": {
    "name": "ipython",
    "version": 3
   },
   "file_extension": ".py",
   "mimetype": "text/x-python",
   "name": "python",
   "nbconvert_exporter": "python",
   "pygments_lexer": "ipython3",
   "version": "3.8.3"
  }
 },
 "nbformat": 4,
 "nbformat_minor": 2
}
