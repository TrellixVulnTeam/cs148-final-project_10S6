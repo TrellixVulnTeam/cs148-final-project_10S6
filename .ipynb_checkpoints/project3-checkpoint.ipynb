{
 "cells": [
  {
   "cell_type": "markdown",
   "metadata": {},
   "source": [
    "# CSM148 Project 3"
   ]
  },
  {
   "cell_type": "markdown",
   "metadata": {},
   "source": [
    "## 1. Loading Data and Analysis"
   ]
  },
  {
   "cell_type": "code",
   "execution_count": 68,
   "metadata": {},
   "outputs": [],
   "source": [
    "import pandas as pd\n",
    "import numpy as np\n",
    "import seaborn as sns"
   ]
  },
  {
   "cell_type": "code",
   "execution_count": 69,
   "metadata": {},
   "outputs": [
    {
     "data": {
      "text/html": [
       "<div>\n",
       "<style scoped>\n",
       "    .dataframe tbody tr th:only-of-type {\n",
       "        vertical-align: middle;\n",
       "    }\n",
       "\n",
       "    .dataframe tbody tr th {\n",
       "        vertical-align: top;\n",
       "    }\n",
       "\n",
       "    .dataframe thead th {\n",
       "        text-align: right;\n",
       "    }\n",
       "</style>\n",
       "<table border=\"1\" class=\"dataframe\">\n",
       "  <thead>\n",
       "    <tr style=\"text-align: right;\">\n",
       "      <th></th>\n",
       "      <th>id</th>\n",
       "      <th>gender</th>\n",
       "      <th>age</th>\n",
       "      <th>hypertension</th>\n",
       "      <th>heart_disease</th>\n",
       "      <th>ever_married</th>\n",
       "      <th>work_type</th>\n",
       "      <th>Residence_type</th>\n",
       "      <th>avg_glucose_level</th>\n",
       "      <th>bmi</th>\n",
       "      <th>smoking_status</th>\n",
       "      <th>stroke</th>\n",
       "    </tr>\n",
       "  </thead>\n",
       "  <tbody>\n",
       "    <tr>\n",
       "      <th>0</th>\n",
       "      <td>9046</td>\n",
       "      <td>Male</td>\n",
       "      <td>67.0</td>\n",
       "      <td>0</td>\n",
       "      <td>1</td>\n",
       "      <td>Yes</td>\n",
       "      <td>Private</td>\n",
       "      <td>Urban</td>\n",
       "      <td>228.69</td>\n",
       "      <td>36.6</td>\n",
       "      <td>formerly smoked</td>\n",
       "      <td>1</td>\n",
       "    </tr>\n",
       "    <tr>\n",
       "      <th>1</th>\n",
       "      <td>51676</td>\n",
       "      <td>Female</td>\n",
       "      <td>61.0</td>\n",
       "      <td>0</td>\n",
       "      <td>0</td>\n",
       "      <td>Yes</td>\n",
       "      <td>Self-employed</td>\n",
       "      <td>Rural</td>\n",
       "      <td>202.21</td>\n",
       "      <td>NaN</td>\n",
       "      <td>never smoked</td>\n",
       "      <td>1</td>\n",
       "    </tr>\n",
       "    <tr>\n",
       "      <th>2</th>\n",
       "      <td>31112</td>\n",
       "      <td>Male</td>\n",
       "      <td>80.0</td>\n",
       "      <td>0</td>\n",
       "      <td>1</td>\n",
       "      <td>Yes</td>\n",
       "      <td>Private</td>\n",
       "      <td>Rural</td>\n",
       "      <td>105.92</td>\n",
       "      <td>32.5</td>\n",
       "      <td>never smoked</td>\n",
       "      <td>1</td>\n",
       "    </tr>\n",
       "    <tr>\n",
       "      <th>3</th>\n",
       "      <td>60182</td>\n",
       "      <td>Female</td>\n",
       "      <td>49.0</td>\n",
       "      <td>0</td>\n",
       "      <td>0</td>\n",
       "      <td>Yes</td>\n",
       "      <td>Private</td>\n",
       "      <td>Urban</td>\n",
       "      <td>171.23</td>\n",
       "      <td>34.4</td>\n",
       "      <td>smokes</td>\n",
       "      <td>1</td>\n",
       "    </tr>\n",
       "    <tr>\n",
       "      <th>4</th>\n",
       "      <td>1665</td>\n",
       "      <td>Female</td>\n",
       "      <td>79.0</td>\n",
       "      <td>1</td>\n",
       "      <td>0</td>\n",
       "      <td>Yes</td>\n",
       "      <td>Self-employed</td>\n",
       "      <td>Rural</td>\n",
       "      <td>174.12</td>\n",
       "      <td>24.0</td>\n",
       "      <td>never smoked</td>\n",
       "      <td>1</td>\n",
       "    </tr>\n",
       "  </tbody>\n",
       "</table>\n",
       "</div>"
      ],
      "text/plain": [
       "      id  gender   age  hypertension  heart_disease ever_married  \\\n",
       "0   9046    Male  67.0             0              1          Yes   \n",
       "1  51676  Female  61.0             0              0          Yes   \n",
       "2  31112    Male  80.0             0              1          Yes   \n",
       "3  60182  Female  49.0             0              0          Yes   \n",
       "4   1665  Female  79.0             1              0          Yes   \n",
       "\n",
       "       work_type Residence_type  avg_glucose_level   bmi   smoking_status  \\\n",
       "0        Private          Urban             228.69  36.6  formerly smoked   \n",
       "1  Self-employed          Rural             202.21   NaN     never smoked   \n",
       "2        Private          Rural             105.92  32.5     never smoked   \n",
       "3        Private          Urban             171.23  34.4           smokes   \n",
       "4  Self-employed          Rural             174.12  24.0     never smoked   \n",
       "\n",
       "   stroke  \n",
       "0       1  \n",
       "1       1  \n",
       "2       1  \n",
       "3       1  \n",
       "4       1  "
      ]
     },
     "execution_count": 69,
     "metadata": {},
     "output_type": "execute_result"
    }
   ],
   "source": [
    "raw_data = pd.read_csv('./data/healthcare-dataset-stroke-data.csv')\n",
    "\n",
    "#identify 'Unknown' smoking and 'Other' gender values as Null values\n",
    "raw_data['gender'] = raw_data['gender'].replace({'Other': None})\n",
    "raw_data['smoking_status'] = raw_data['smoking_status'].replace({'Unknown':None})\n",
    "\n",
    "raw_data.head()"
   ]
  },
  {
   "cell_type": "code",
   "execution_count": 70,
   "metadata": {},
   "outputs": [
    {
     "name": "stdout",
     "output_type": "stream",
     "text": [
      "<class 'pandas.core.frame.DataFrame'>\n",
      "RangeIndex: 5110 entries, 0 to 5109\n",
      "Data columns (total 12 columns):\n",
      " #   Column             Non-Null Count  Dtype  \n",
      "---  ------             --------------  -----  \n",
      " 0   id                 5110 non-null   int64  \n",
      " 1   gender             5109 non-null   object \n",
      " 2   age                5110 non-null   float64\n",
      " 3   hypertension       5110 non-null   int64  \n",
      " 4   heart_disease      5110 non-null   int64  \n",
      " 5   ever_married       5110 non-null   object \n",
      " 6   work_type          5110 non-null   object \n",
      " 7   Residence_type     5110 non-null   object \n",
      " 8   avg_glucose_level  5110 non-null   float64\n",
      " 9   bmi                4909 non-null   float64\n",
      " 10  smoking_status     3566 non-null   object \n",
      " 11  stroke             5110 non-null   int64  \n",
      "dtypes: float64(3), int64(4), object(5)\n",
      "memory usage: 479.2+ KB\n"
     ]
    }
   ],
   "source": [
    "raw_data.info()"
   ]
  },
  {
   "cell_type": "code",
   "execution_count": 71,
   "metadata": {},
   "outputs": [
    {
     "name": "stdout",
     "output_type": "stream",
     "text": [
      "<class 'pandas.core.frame.DataFrame'>\n",
      "Int64Index: 5109 entries, 0 to 5109\n",
      "Data columns (total 12 columns):\n",
      " #   Column             Non-Null Count  Dtype  \n",
      "---  ------             --------------  -----  \n",
      " 0   id                 5109 non-null   int64  \n",
      " 1   gender             5109 non-null   int64  \n",
      " 2   age                5109 non-null   float64\n",
      " 3   hypertension       5109 non-null   int64  \n",
      " 4   heart_disease      5109 non-null   int64  \n",
      " 5   ever_married       5109 non-null   int64  \n",
      " 6   work_type          5109 non-null   object \n",
      " 7   Residence_type     5109 non-null   int64  \n",
      " 8   avg_glucose_level  5109 non-null   float64\n",
      " 9   bmi                4908 non-null   float64\n",
      " 10  smoking_status     3565 non-null   object \n",
      " 11  stroke             5109 non-null   int64  \n",
      "dtypes: float64(3), int64(7), object(2)\n",
      "memory usage: 518.9+ KB\n"
     ]
    }
   ],
   "source": [
    "#since ever_married is a binary yes/no column with no missing values, we can easily convert this to numerical values\n",
    "raw_data['ever_married'] = raw_data['ever_married'].replace({\"Yes\":1, \"No\":0})\n",
    "\n",
    "#and since gender has only 1 value of the kind \"Other\", we can drop that row and convert it to a binary value as well.\n",
    "raw_data = raw_data[raw_data['gender'].notna()]\n",
    "raw_data['gender'] = raw_data['gender'].replace({'Male':1, 'Female':0})\n",
    "\n",
    "#Since Residence_type is also a variable with two values we can convert this to binary as well\n",
    "raw_data['Residence_type'] = raw_data['Residence_type'].replace({'Urban':1, 'Rural':0})\n",
    "\n",
    "raw_data.info()"
   ]
  },
  {
   "cell_type": "code",
   "execution_count": 72,
   "metadata": {},
   "outputs": [
    {
     "data": {
      "text/html": [
       "<div>\n",
       "<style scoped>\n",
       "    .dataframe tbody tr th:only-of-type {\n",
       "        vertical-align: middle;\n",
       "    }\n",
       "\n",
       "    .dataframe tbody tr th {\n",
       "        vertical-align: top;\n",
       "    }\n",
       "\n",
       "    .dataframe thead th {\n",
       "        text-align: right;\n",
       "    }\n",
       "</style>\n",
       "<table border=\"1\" class=\"dataframe\">\n",
       "  <thead>\n",
       "    <tr style=\"text-align: right;\">\n",
       "      <th></th>\n",
       "      <th>id</th>\n",
       "      <th>gender</th>\n",
       "      <th>age</th>\n",
       "      <th>hypertension</th>\n",
       "      <th>heart_disease</th>\n",
       "      <th>ever_married</th>\n",
       "      <th>Residence_type</th>\n",
       "      <th>avg_glucose_level</th>\n",
       "      <th>bmi</th>\n",
       "      <th>stroke</th>\n",
       "    </tr>\n",
       "  </thead>\n",
       "  <tbody>\n",
       "    <tr>\n",
       "      <th>count</th>\n",
       "      <td>5109.000000</td>\n",
       "      <td>5109.000000</td>\n",
       "      <td>5109.000000</td>\n",
       "      <td>5109.000000</td>\n",
       "      <td>5109.000000</td>\n",
       "      <td>5109.000000</td>\n",
       "      <td>5109.000000</td>\n",
       "      <td>5109.000000</td>\n",
       "      <td>4908.00000</td>\n",
       "      <td>5109.000000</td>\n",
       "    </tr>\n",
       "    <tr>\n",
       "      <th>mean</th>\n",
       "      <td>36513.985516</td>\n",
       "      <td>0.413975</td>\n",
       "      <td>43.229986</td>\n",
       "      <td>0.097475</td>\n",
       "      <td>0.054022</td>\n",
       "      <td>0.656293</td>\n",
       "      <td>0.508123</td>\n",
       "      <td>106.140399</td>\n",
       "      <td>28.89456</td>\n",
       "      <td>0.048738</td>\n",
       "    </tr>\n",
       "    <tr>\n",
       "      <th>std</th>\n",
       "      <td>21162.008804</td>\n",
       "      <td>0.492592</td>\n",
       "      <td>22.613575</td>\n",
       "      <td>0.296633</td>\n",
       "      <td>0.226084</td>\n",
       "      <td>0.474991</td>\n",
       "      <td>0.499983</td>\n",
       "      <td>45.285004</td>\n",
       "      <td>7.85432</td>\n",
       "      <td>0.215340</td>\n",
       "    </tr>\n",
       "    <tr>\n",
       "      <th>min</th>\n",
       "      <td>67.000000</td>\n",
       "      <td>0.000000</td>\n",
       "      <td>0.080000</td>\n",
       "      <td>0.000000</td>\n",
       "      <td>0.000000</td>\n",
       "      <td>0.000000</td>\n",
       "      <td>0.000000</td>\n",
       "      <td>55.120000</td>\n",
       "      <td>10.30000</td>\n",
       "      <td>0.000000</td>\n",
       "    </tr>\n",
       "    <tr>\n",
       "      <th>25%</th>\n",
       "      <td>17740.000000</td>\n",
       "      <td>0.000000</td>\n",
       "      <td>25.000000</td>\n",
       "      <td>0.000000</td>\n",
       "      <td>0.000000</td>\n",
       "      <td>0.000000</td>\n",
       "      <td>0.000000</td>\n",
       "      <td>77.240000</td>\n",
       "      <td>23.50000</td>\n",
       "      <td>0.000000</td>\n",
       "    </tr>\n",
       "    <tr>\n",
       "      <th>50%</th>\n",
       "      <td>36922.000000</td>\n",
       "      <td>0.000000</td>\n",
       "      <td>45.000000</td>\n",
       "      <td>0.000000</td>\n",
       "      <td>0.000000</td>\n",
       "      <td>1.000000</td>\n",
       "      <td>1.000000</td>\n",
       "      <td>91.880000</td>\n",
       "      <td>28.10000</td>\n",
       "      <td>0.000000</td>\n",
       "    </tr>\n",
       "    <tr>\n",
       "      <th>75%</th>\n",
       "      <td>54643.000000</td>\n",
       "      <td>1.000000</td>\n",
       "      <td>61.000000</td>\n",
       "      <td>0.000000</td>\n",
       "      <td>0.000000</td>\n",
       "      <td>1.000000</td>\n",
       "      <td>1.000000</td>\n",
       "      <td>114.090000</td>\n",
       "      <td>33.10000</td>\n",
       "      <td>0.000000</td>\n",
       "    </tr>\n",
       "    <tr>\n",
       "      <th>max</th>\n",
       "      <td>72940.000000</td>\n",
       "      <td>1.000000</td>\n",
       "      <td>82.000000</td>\n",
       "      <td>1.000000</td>\n",
       "      <td>1.000000</td>\n",
       "      <td>1.000000</td>\n",
       "      <td>1.000000</td>\n",
       "      <td>271.740000</td>\n",
       "      <td>97.60000</td>\n",
       "      <td>1.000000</td>\n",
       "    </tr>\n",
       "  </tbody>\n",
       "</table>\n",
       "</div>"
      ],
      "text/plain": [
       "                 id       gender          age  hypertension  heart_disease  \\\n",
       "count   5109.000000  5109.000000  5109.000000   5109.000000    5109.000000   \n",
       "mean   36513.985516     0.413975    43.229986      0.097475       0.054022   \n",
       "std    21162.008804     0.492592    22.613575      0.296633       0.226084   \n",
       "min       67.000000     0.000000     0.080000      0.000000       0.000000   \n",
       "25%    17740.000000     0.000000    25.000000      0.000000       0.000000   \n",
       "50%    36922.000000     0.000000    45.000000      0.000000       0.000000   \n",
       "75%    54643.000000     1.000000    61.000000      0.000000       0.000000   \n",
       "max    72940.000000     1.000000    82.000000      1.000000       1.000000   \n",
       "\n",
       "       ever_married  Residence_type  avg_glucose_level         bmi  \\\n",
       "count   5109.000000     5109.000000        5109.000000  4908.00000   \n",
       "mean       0.656293        0.508123         106.140399    28.89456   \n",
       "std        0.474991        0.499983          45.285004     7.85432   \n",
       "min        0.000000        0.000000          55.120000    10.30000   \n",
       "25%        0.000000        0.000000          77.240000    23.50000   \n",
       "50%        1.000000        1.000000          91.880000    28.10000   \n",
       "75%        1.000000        1.000000         114.090000    33.10000   \n",
       "max        1.000000        1.000000         271.740000    97.60000   \n",
       "\n",
       "            stroke  \n",
       "count  5109.000000  \n",
       "mean      0.048738  \n",
       "std       0.215340  \n",
       "min       0.000000  \n",
       "25%       0.000000  \n",
       "50%       0.000000  \n",
       "75%       0.000000  \n",
       "max       1.000000  "
      ]
     },
     "execution_count": 72,
     "metadata": {},
     "output_type": "execute_result"
    }
   ],
   "source": [
    "raw_data.describe()"
   ]
  },
  {
   "cell_type": "code",
   "execution_count": 73,
   "metadata": {},
   "outputs": [
    {
     "data": {
      "text/plain": [
       "array([[<AxesSubplot:title={'center':'id'}>,\n",
       "        <AxesSubplot:title={'center':'gender'}>,\n",
       "        <AxesSubplot:title={'center':'age'}>],\n",
       "       [<AxesSubplot:title={'center':'hypertension'}>,\n",
       "        <AxesSubplot:title={'center':'heart_disease'}>,\n",
       "        <AxesSubplot:title={'center':'ever_married'}>],\n",
       "       [<AxesSubplot:title={'center':'Residence_type'}>,\n",
       "        <AxesSubplot:title={'center':'avg_glucose_level'}>,\n",
       "        <AxesSubplot:title={'center':'bmi'}>],\n",
       "       [<AxesSubplot:title={'center':'stroke'}>, <AxesSubplot:>,\n",
       "        <AxesSubplot:>]], dtype=object)"
      ]
     },
     "execution_count": 73,
     "metadata": {},
     "output_type": "execute_result"
    },
    {
     "data": {
      "image/png": "[encoded data removed]",
      "text/plain": [
       "<Figure size 1440x1080 with 12 Axes>"
      ]
     },
     "metadata": {
      "needs_background": "light"
     },
     "output_type": "display_data"
    }
   ],
   "source": [
    "raw_data.hist(bins=50,figsize=(20,15))"
   ]
  },
  {
   "cell_type": "markdown",
   "metadata": {},
   "source": [
    "Its interesting to note here that the dataset is imbalanced, with a huge majority of datapoints labeled negative for a stroke rather than positive. "
   ]
  },
  {
   "cell_type": "code",
   "execution_count": 74,
   "metadata": {},
   "outputs": [
    {
     "data": {
      "text/plain": [
       "<AxesSubplot:>"
      ]
     },
     "execution_count": 74,
     "metadata": {},
     "output_type": "execute_result"
    },
    {
     "data": {
      "image/png": "[encoded data removed]",
      "text/plain": [
       "<Figure size 432x288 with 1 Axes>"
      ]
     },
     "metadata": {
      "needs_background": "light"
     },
     "output_type": "display_data"
    }
   ],
   "source": [
    "raw_data['work_type'].value_counts().plot.bar()"
   ]
  },
  {
   "cell_type": "code",
   "execution_count": 75,
   "metadata": {},
   "outputs": [
    {
     "data": {
      "text/plain": [
       "<AxesSubplot:>"
      ]
     },
     "execution_count": 75,
     "metadata": {},
     "output_type": "execute_result"
    },
    {
     "data": {
      "image/png": "[encoded data removed]",
      "text/plain": [
       "<Figure size 432x288 with 1 Axes>"
      ]
     },
     "metadata": {
      "needs_background": "light"
     },
     "output_type": "display_data"
    }
   ],
   "source": [
    "raw_data['smoking_status'].value_counts().plot.bar()"
   ]
  },
  {
   "cell_type": "code",
   "execution_count": 76,
   "metadata": {},
   "outputs": [
    {
     "name": "stdout",
     "output_type": "stream",
     "text": [
      "<class 'pandas.core.frame.DataFrame'>\n",
      "Int64Index: 5109 entries, 0 to 5109\n",
      "Data columns (total 11 columns):\n",
      " #   Column             Non-Null Count  Dtype  \n",
      "---  ------             --------------  -----  \n",
      " 0   gender             5109 non-null   int64  \n",
      " 1   age                5109 non-null   float64\n",
      " 2   hypertension       5109 non-null   int64  \n",
      " 3   heart_disease      5109 non-null   int64  \n",
      " 4   ever_married       5109 non-null   int64  \n",
      " 5   work_type          5109 non-null   int64  \n",
      " 6   Residence_type     5109 non-null   int64  \n",
      " 7   avg_glucose_level  5109 non-null   float64\n",
      " 8   bmi                4908 non-null   float64\n",
      " 9   smoking_status     3565 non-null   float64\n",
      " 10  stroke             5109 non-null   int64  \n",
      "dtypes: float64(4), int64(7)\n",
      "memory usage: 479.0 KB\n"
     ]
    },
    {
     "data": {
      "text/plain": [
       "<AxesSubplot:>"
      ]
     },
     "execution_count": 76,
     "metadata": {},
     "output_type": "execute_result"
    },
    {
     "data": {
      "image/png": "[encoded data removed]",
      "text/plain": [
       "<Figure size 432x288 with 2 Axes>"
      ]
     },
     "metadata": {
      "needs_background": "light"
     },
     "output_type": "display_data"
    }
   ],
   "source": [
    "#in order to consider categorical variables for the correlation matrix we can temporarily bin them into numerical categories\n",
    "corr_data = raw_data.drop(columns=['id'])\n",
    "corr_data['work_type'] = corr_data['work_type'].replace({'children':0,'Govt_job':1,'Never_worked':2,'Private':3,'Self-employed':4})\n",
    "corr_data['smoking_status'] = corr_data['smoking_status'].replace({'never smoked':0, 'formerly smoked':1, 'smokes': 2})\n",
    "\n",
    "corr_data.info()\n",
    "corr_mat = corr_data.corr()\n",
    "sns.heatmap(corr_mat)"
   ]
  },
  {
   "cell_type": "markdown",
   "metadata": {},
   "source": [
    "It's interesting to see here that a majority of our values are not heavily correlated with each other. The lack of correlation of a single factor to stroke may also be because of the dataset imbalance. Age and ever_married are understandingly correlated to an extent, as well as age and work_type. However, the second is less reliable because it is not appropriately encoded yet. "
   ]
  },
  {
   "cell_type": "markdown",
   "metadata": {},
   "source": [
    "## 2. Data Augmentation, Processing and Pipelining"
   ]
  },
  {
   "cell_type": "markdown",
   "metadata": {},
   "source": [
    "#### Data Imputation"
   ]
  },
  {
   "cell_type": "code",
   "execution_count": 77,
   "metadata": {},
   "outputs": [],
   "source": [
    "#since id is just a random identifier, it is irrelevant to our dataset\n",
    "processed_data = raw_data.drop(columns=['id'])\n",
    "\n",
    "#since smoking_status has a number of null-values, we are forced to drop rows with those values, since there is no logical way to impute a value for these data points without introducing bias\n",
    "processed_data = processed_data[processed_data['smoking_status'].notna()]\n",
    "\n",
    "#since undersampling bmi does not reduce the size of the dataset further by much, it may be the best idea to impute this feature by dropping rows in order to not introduce bias.\n",
    "processed_data = processed_data[processed_data['bmi'].notna()]"
   ]
  },
  {
   "cell_type": "markdown",
   "metadata": {},
   "source": [
    "#### Data Augmentation"
   ]
  },
  {
   "cell_type": "markdown",
   "metadata": {},
   "source": [
    "Since bad health at a high age is a particular risk for health disorders, it may be relevant to perform a feature cross between indicators of bad health and age."
   ]
  },
  {
   "cell_type": "code",
   "execution_count": 79,
   "metadata": {},
   "outputs": [],
   "source": [
    "#Data Augmentation 1\n",
    "\n",
    "#Feature Cross Age and BMI:\n",
    "processed_data['bmi_age'] = processed_data['bmi']*processed_data['age']"
   ]
  },
  {
   "cell_type": "code",
   "execution_count": 80,
   "metadata": {},
   "outputs": [],
   "source": [
    "#Data Augmentation 2\n",
    "\n",
    "#Feature Cross Age and Average Glucose Level:\n",
    "processed_data['glucose_age'] = processed_data['avg_glucose_level']*processed_data['age']"
   ]
  },
  {
   "cell_type": "markdown",
   "metadata": {},
   "source": [
    "#### Data Pipeline"
   ]
  },
  {
   "cell_type": "code",
   "execution_count": 81,
   "metadata": {},
   "outputs": [
    {
     "data": {
      "text/html": [
       "<div>\n",
       "<style scoped>\n",
       "    .dataframe tbody tr th:only-of-type {\n",
       "        vertical-align: middle;\n",
       "    }\n",
       "\n",
       "    .dataframe tbody tr th {\n",
       "        vertical-align: top;\n",
       "    }\n",
       "\n",
       "    .dataframe thead th {\n",
       "        text-align: right;\n",
       "    }\n",
       "</style>\n",
       "<table border=\"1\" class=\"dataframe\">\n",
       "  <thead>\n",
       "    <tr style=\"text-align: right;\">\n",
       "      <th></th>\n",
       "      <th>gender</th>\n",
       "      <th>age</th>\n",
       "      <th>hypertension</th>\n",
       "      <th>heart_disease</th>\n",
       "      <th>ever_married</th>\n",
       "      <th>work_type</th>\n",
       "      <th>Residence_type</th>\n",
       "      <th>avg_glucose_level</th>\n",
       "      <th>bmi</th>\n",
       "      <th>smoking_status</th>\n",
       "      <th>bmi_age</th>\n",
       "      <th>glucose_age</th>\n",
       "    </tr>\n",
       "  </thead>\n",
       "  <tbody>\n",
       "    <tr>\n",
       "      <th>0</th>\n",
       "      <td>1</td>\n",
       "      <td>67.0</td>\n",
       "      <td>0</td>\n",
       "      <td>1</td>\n",
       "      <td>1</td>\n",
       "      <td>Private</td>\n",
       "      <td>1</td>\n",
       "      <td>228.69</td>\n",
       "      <td>36.6</td>\n",
       "      <td>formerly smoked</td>\n",
       "      <td>2452.2</td>\n",
       "      <td>15322.23</td>\n",
       "    </tr>\n",
       "    <tr>\n",
       "      <th>2</th>\n",
       "      <td>1</td>\n",
       "      <td>80.0</td>\n",
       "      <td>0</td>\n",
       "      <td>1</td>\n",
       "      <td>1</td>\n",
       "      <td>Private</td>\n",
       "      <td>0</td>\n",
       "      <td>105.92</td>\n",
       "      <td>32.5</td>\n",
       "      <td>never smoked</td>\n",
       "      <td>2600.0</td>\n",
       "      <td>8473.60</td>\n",
       "    </tr>\n",
       "    <tr>\n",
       "      <th>3</th>\n",
       "      <td>0</td>\n",
       "      <td>49.0</td>\n",
       "      <td>0</td>\n",
       "      <td>0</td>\n",
       "      <td>1</td>\n",
       "      <td>Private</td>\n",
       "      <td>1</td>\n",
       "      <td>171.23</td>\n",
       "      <td>34.4</td>\n",
       "      <td>smokes</td>\n",
       "      <td>1685.6</td>\n",
       "      <td>8390.27</td>\n",
       "    </tr>\n",
       "    <tr>\n",
       "      <th>4</th>\n",
       "      <td>0</td>\n",
       "      <td>79.0</td>\n",
       "      <td>1</td>\n",
       "      <td>0</td>\n",
       "      <td>1</td>\n",
       "      <td>Self-employed</td>\n",
       "      <td>0</td>\n",
       "      <td>174.12</td>\n",
       "      <td>24.0</td>\n",
       "      <td>never smoked</td>\n",
       "      <td>1896.0</td>\n",
       "      <td>13755.48</td>\n",
       "    </tr>\n",
       "    <tr>\n",
       "      <th>5</th>\n",
       "      <td>1</td>\n",
       "      <td>81.0</td>\n",
       "      <td>0</td>\n",
       "      <td>0</td>\n",
       "      <td>1</td>\n",
       "      <td>Private</td>\n",
       "      <td>1</td>\n",
       "      <td>186.21</td>\n",
       "      <td>29.0</td>\n",
       "      <td>formerly smoked</td>\n",
       "      <td>2349.0</td>\n",
       "      <td>15083.01</td>\n",
       "    </tr>\n",
       "  </tbody>\n",
       "</table>\n",
       "</div>"
      ],
      "text/plain": [
       "   gender   age  hypertension  heart_disease  ever_married      work_type  \\\n",
       "0       1  67.0             0              1             1        Private   \n",
       "2       1  80.0             0              1             1        Private   \n",
       "3       0  49.0             0              0             1        Private   \n",
       "4       0  79.0             1              0             1  Self-employed   \n",
       "5       1  81.0             0              0             1        Private   \n",
       "\n",
       "   Residence_type  avg_glucose_level   bmi   smoking_status  bmi_age  \\\n",
       "0               1             228.69  36.6  formerly smoked   2452.2   \n",
       "2               0             105.92  32.5     never smoked   2600.0   \n",
       "3               1             171.23  34.4           smokes   1685.6   \n",
       "4               0             174.12  24.0     never smoked   1896.0   \n",
       "5               1             186.21  29.0  formerly smoked   2349.0   \n",
       "\n",
       "   glucose_age  \n",
       "0     15322.23  \n",
       "2      8473.60  \n",
       "3      8390.27  \n",
       "4     13755.48  \n",
       "5     15083.01  "
      ]
     },
     "execution_count": 81,
     "metadata": {},
     "output_type": "execute_result"
    }
   ],
   "source": [
    "#seperate target variable from data before pipelining\n",
    "labels = processed_data['stroke']\n",
    "processed_data.drop(columns=['stroke'], inplace=True)\n",
    "processed_data.head()"
   ]
  },
  {
   "cell_type": "code",
   "execution_count": 82,
   "metadata": {},
   "outputs": [
    {
     "data": {
      "text/html": [
       "<div>\n",
       "<style scoped>\n",
       "    .dataframe tbody tr th:only-of-type {\n",
       "        vertical-align: middle;\n",
       "    }\n",
       "\n",
       "    .dataframe tbody tr th {\n",
       "        vertical-align: top;\n",
       "    }\n",
       "\n",
       "    .dataframe thead th {\n",
       "        text-align: right;\n",
       "    }\n",
       "</style>\n",
       "<table border=\"1\" class=\"dataframe\">\n",
       "  <thead>\n",
       "    <tr style=\"text-align: right;\">\n",
       "      <th></th>\n",
       "      <th>gender</th>\n",
       "      <th>age</th>\n",
       "      <th>hypertension</th>\n",
       "      <th>heart_disease</th>\n",
       "      <th>ever_married</th>\n",
       "      <th>Residence_type</th>\n",
       "      <th>avg_glucose_level</th>\n",
       "      <th>bmi</th>\n",
       "      <th>bmi_age</th>\n",
       "      <th>glucose_age</th>\n",
       "      <th>work_type_Govt_job</th>\n",
       "      <th>work_type_Never_worked</th>\n",
       "      <th>work_type_Private</th>\n",
       "      <th>work_type_Self-employed</th>\n",
       "      <th>work_type_children</th>\n",
       "      <th>smoking_status_formerly smoked</th>\n",
       "      <th>smoking_status_never smoked</th>\n",
       "      <th>smoking_status_smokes</th>\n",
       "    </tr>\n",
       "  </thead>\n",
       "  <tbody>\n",
       "    <tr>\n",
       "      <th>0</th>\n",
       "      <td>1</td>\n",
       "      <td>0.973480</td>\n",
       "      <td>0</td>\n",
       "      <td>1</td>\n",
       "      <td>1</td>\n",
       "      <td>1</td>\n",
       "      <td>2.523666</td>\n",
       "      <td>0.864688</td>\n",
       "      <td>1.455755</td>\n",
       "      <td>2.575993</td>\n",
       "      <td>0</td>\n",
       "      <td>0</td>\n",
       "      <td>1</td>\n",
       "      <td>0</td>\n",
       "      <td>0</td>\n",
       "      <td>1</td>\n",
       "      <td>0</td>\n",
       "      <td>0</td>\n",
       "    </tr>\n",
       "    <tr>\n",
       "      <th>2</th>\n",
       "      <td>1</td>\n",
       "      <td>1.663236</td>\n",
       "      <td>0</td>\n",
       "      <td>1</td>\n",
       "      <td>1</td>\n",
       "      <td>0</td>\n",
       "      <td>-0.050140</td>\n",
       "      <td>0.302637</td>\n",
       "      <td>1.678144</td>\n",
       "      <td>0.783513</td>\n",
       "      <td>0</td>\n",
       "      <td>0</td>\n",
       "      <td>1</td>\n",
       "      <td>0</td>\n",
       "      <td>0</td>\n",
       "      <td>0</td>\n",
       "      <td>1</td>\n",
       "      <td>0</td>\n",
       "    </tr>\n",
       "    <tr>\n",
       "      <th>3</th>\n",
       "      <td>0</td>\n",
       "      <td>0.018435</td>\n",
       "      <td>0</td>\n",
       "      <td>0</td>\n",
       "      <td>1</td>\n",
       "      <td>1</td>\n",
       "      <td>1.319048</td>\n",
       "      <td>0.563100</td>\n",
       "      <td>0.302279</td>\n",
       "      <td>0.761704</td>\n",
       "      <td>0</td>\n",
       "      <td>0</td>\n",
       "      <td>1</td>\n",
       "      <td>0</td>\n",
       "      <td>0</td>\n",
       "      <td>0</td>\n",
       "      <td>0</td>\n",
       "      <td>1</td>\n",
       "    </tr>\n",
       "    <tr>\n",
       "      <th>4</th>\n",
       "      <td>0</td>\n",
       "      <td>1.610178</td>\n",
       "      <td>1</td>\n",
       "      <td>0</td>\n",
       "      <td>1</td>\n",
       "      <td>0</td>\n",
       "      <td>1.379636</td>\n",
       "      <td>-0.862591</td>\n",
       "      <td>0.618861</td>\n",
       "      <td>2.165930</td>\n",
       "      <td>0</td>\n",
       "      <td>0</td>\n",
       "      <td>0</td>\n",
       "      <td>1</td>\n",
       "      <td>0</td>\n",
       "      <td>0</td>\n",
       "      <td>1</td>\n",
       "      <td>0</td>\n",
       "    </tr>\n",
       "    <tr>\n",
       "      <th>5</th>\n",
       "      <td>1</td>\n",
       "      <td>1.716294</td>\n",
       "      <td>0</td>\n",
       "      <td>0</td>\n",
       "      <td>1</td>\n",
       "      <td>1</td>\n",
       "      <td>1.633096</td>\n",
       "      <td>-0.177163</td>\n",
       "      <td>1.300474</td>\n",
       "      <td>2.513382</td>\n",
       "      <td>0</td>\n",
       "      <td>0</td>\n",
       "      <td>1</td>\n",
       "      <td>0</td>\n",
       "      <td>0</td>\n",
       "      <td>1</td>\n",
       "      <td>0</td>\n",
       "      <td>0</td>\n",
       "    </tr>\n",
       "  </tbody>\n",
       "</table>\n",
       "</div>"
      ],
      "text/plain": [
       "   gender       age  hypertension  heart_disease  ever_married  \\\n",
       "0       1  0.973480             0              1             1   \n",
       "2       1  1.663236             0              1             1   \n",
       "3       0  0.018435             0              0             1   \n",
       "4       0  1.610178             1              0             1   \n",
       "5       1  1.716294             0              0             1   \n",
       "\n",
       "   Residence_type  avg_glucose_level       bmi   bmi_age  glucose_age  \\\n",
       "0               1           2.523666  0.864688  1.455755     2.575993   \n",
       "2               0          -0.050140  0.302637  1.678144     0.783513   \n",
       "3               1           1.319048  0.563100  0.302279     0.761704   \n",
       "4               0           1.379636 -0.862591  0.618861     2.165930   \n",
       "5               1           1.633096 -0.177163  1.300474     2.513382   \n",
       "\n",
       "   work_type_Govt_job  work_type_Never_worked  work_type_Private  \\\n",
       "0                   0                       0                  1   \n",
       "2                   0                       0                  1   \n",
       "3                   0                       0                  1   \n",
       "4                   0                       0                  0   \n",
       "5                   0                       0                  1   \n",
       "\n",
       "   work_type_Self-employed  work_type_children  \\\n",
       "0                        0                   0   \n",
       "2                        0                   0   \n",
       "3                        0                   0   \n",
       "4                        1                   0   \n",
       "5                        0                   0   \n",
       "\n",
       "   smoking_status_formerly smoked  smoking_status_never smoked  \\\n",
       "0                               1                            0   \n",
       "2                               0                            1   \n",
       "3                               0                            0   \n",
       "4                               0                            1   \n",
       "5                               1                            0   \n",
       "\n",
       "   smoking_status_smokes  \n",
       "0                      0  \n",
       "2                      0  \n",
       "3                      1  \n",
       "4                      0  \n",
       "5                      0  "
      ]
     },
     "execution_count": 82,
     "metadata": {},
     "output_type": "execute_result"
    }
   ],
   "source": [
    "from sklearn.compose import ColumnTransformer\n",
    "from sklearn.preprocessing import StandardScaler\n",
    "from sklearn.preprocessing import OneHotEncoder\n",
    "\n",
    "numerical_features = ['age','avg_glucose_level','bmi','bmi_age','glucose_age']\n",
    "categorical_features = processed_data.select_dtypes(include=['object']).columns\n",
    "\n",
    "scaler = StandardScaler()\n",
    "X = processed_data\n",
    "\n",
    "#chose this method of pipelining, to keep column names after transforms\n",
    "for c in categorical_features:\n",
    "    X = pd.concat([X,pd.get_dummies(X[c], prefix=c)],axis=1)\n",
    "    X.drop(columns=[c], inplace=True)\n",
    "\n",
    "X[numerical_features] = scaler.fit_transform(X[numerical_features])\n",
    "\n",
    "y = labels\n",
    "column_labels = X.columns\n",
    "\n",
    "X.head()\n"
   ]
  },
  {
   "cell_type": "markdown",
   "metadata": {},
   "source": [
    "#### Creating Train-Test Split"
   ]
  },
  {
   "cell_type": "code",
   "execution_count": 83,
   "metadata": {},
   "outputs": [],
   "source": [
    "from sklearn.model_selection import train_test_split\n",
    "\n",
    "#create train test split for models\n",
    "X_train, X_test, y_train, y_test = train_test_split(X, y, test_size=0.2,stratify=y,random_state=42)\n"
   ]
  },
  {
   "cell_type": "code",
   "execution_count": 84,
   "metadata": {},
   "outputs": [
    {
     "name": "stdout",
     "output_type": "stream",
     "text": [
      "train label counts:  {0: 2596, 1: 144}\n",
      "train label proportion:  0.052554744525547446\n",
      "test label counts:  {0: 649, 1: 36}\n",
      "test label proportion:  0.052554744525547446\n"
     ]
    }
   ],
   "source": [
    "#verify that both splits contain an identical proportion of class labels.\n",
    "train_unique, train_counts = np.unique(y_train, return_counts=True)\n",
    "train_prop = dict(zip(train_unique, train_counts))\n",
    "\n",
    "test_unique, test_counts = np.unique(y_test, return_counts=True)\n",
    "test_prop = dict(zip(test_unique, test_counts))\n",
    "\n",
    "print('train label counts: ', train_prop)\n",
    "print('train label proportion: ', train_prop[1]/(train_prop[0]+train_prop[1]))\n",
    "print('test label counts: ', test_prop)\n",
    "print('test label proportion: ', test_prop[1]/(test_prop[0]+test_prop[1]))"
   ]
  },
  {
   "cell_type": "markdown",
   "metadata": {},
   "source": [
    "#### Balancing The Train Data"
   ]
  },
  {
   "cell_type": "code",
   "execution_count": 85,
   "metadata": {},
   "outputs": [
    {
     "name": "stdout",
     "output_type": "stream",
     "text": [
      "balanced label counts:  {0: 2596, 1: 2596}\n",
      "balanced label proportion:  0.5\n"
     ]
    }
   ],
   "source": [
    "from imblearn.over_sampling import SMOTE\n",
    "\n",
    "oversampler = SMOTE(random_state=42)\n",
    "X_train_bal, y_train_bal = oversampler.fit_resample(X_train, y_train)\n",
    "\n",
    "unique, counts = np.unique(y_train_bal, return_counts=True)\n",
    "prop = dict(zip(unique, counts))\n",
    "\n",
    "print('balanced label counts: ', prop)\n",
    "print('balanced label proportion: ', prop[1]/(prop[0]+prop[1]))\n",
    "\n"
   ]
  },
  {
   "cell_type": "markdown",
   "metadata": {},
   "source": [
    "## 3. Error Scores Helper"
   ]
  },
  {
   "cell_type": "code",
   "execution_count": 86,
   "metadata": {},
   "outputs": [],
   "source": [
    "from sklearn import metrics\n",
    "import matplotlib.pyplot as plt\n",
    "\n",
    "def test_classifier(clf, X_test, y_test):\n",
    "    y_pred = clf.predict(X_test)\n",
    "    print(\"Accuracy: \", metrics.accuracy_score(y_test, y_pred))\n",
    "    print(\"Precision: \", metrics.precision_score(y_test, y_pred))\n",
    "    print(\"Recall: \", metrics.recall_score(y_test, y_pred))\n",
    "    print(\"F1 Score: \", metrics.f1_score(y_test, y_pred))\n",
    "    print(\"ROC AUC: \", metrics.roc_auc_score(y_test, y_pred))\n",
    "    metrics.plot_confusion_matrix(clf, X_test, y_test)\n",
    "    "
   ]
  },
  {
   "cell_type": "markdown",
   "metadata": {},
   "source": [
    "## 4. Logistic Regression"
   ]
  },
  {
   "cell_type": "code",
   "execution_count": 99,
   "metadata": {},
   "outputs": [
    {
     "name": "stdout",
     "output_type": "stream",
     "text": [
      "train scores:\n",
      "Accuracy:  0.825115562403698\n",
      "Precision:  0.8204252088078967\n",
      "Recall:  0.8324345146379045\n",
      "F1 Score:  0.8263862332695984\n",
      "ROC AUC:  0.8251155624036981\n"
     ]
    },
    {
     "data": {
      "image/png": "[encoded data removed]",
      "text/plain": [
       "<Figure size 432x288 with 2 Axes>"
      ]
     },
     "metadata": {
      "needs_background": "light"
     },
     "output_type": "display_data"
    },
    {
     "name": "stdout",
     "output_type": "stream",
     "text": [
      "test scores:\n",
      "Accuracy:  0.7970802919708029\n",
      "Precision:  0.13986013986013987\n",
      "Recall:  0.5555555555555556\n",
      "F1 Score:  0.223463687150838\n",
      "ROC AUC:  0.6830166067454202\n"
     ]
    },
    {
     "data": {
      "image/png": "[encoded data removed]",
      "text/plain": [
       "<Figure size 432x288 with 2 Axes>"
      ]
     },
     "metadata": {
      "needs_background": "light"
     },
     "output_type": "display_data"
    }
   ],
   "source": [
    "from sklearn.linear_model import LogisticRegression\n",
    "log_clf = LogisticRegression(random_state=42).fit(X_train_bal, y_train_bal)\n",
    "\n",
    "print('train scores:')\n",
    "test_classifier(log_clf, X_train_bal, y_train_bal)\n",
    "plt.show()\n",
    "print('test scores:')\n",
    "test_classifier(log_clf, X_test, y_test)\n",
    "plt.show()"
   ]
  },
  {
   "cell_type": "markdown",
   "metadata": {},
   "source": [
    "#### Feature Importance Analysis"
   ]
  },
  {
   "cell_type": "code",
   "execution_count": 102,
   "metadata": {},
   "outputs": [
    {
     "name": "stdout",
     "output_type": "stream",
     "text": [
      "Feature Weights:\n",
      "\n",
      "Feature: gender , Score: -0.87790\n",
      "Feature: age , Score: 1.32454\n",
      "Feature: hypertension , Score: -0.59066\n",
      "Feature: heart_disease , Score: -0.53216\n",
      "Feature: ever_married , Score: -0.40955\n",
      "Feature: Residence_type , Score: -0.34610\n",
      "Feature: avg_glucose_level , Score: -0.03104\n",
      "Feature: bmi , Score: -0.25182\n",
      "Feature: bmi_age , Score: 0.48149\n",
      "Feature: glucose_age , Score: 0.36483\n",
      "Feature: work_type_Govt_job , Score: -4.25909\n",
      "Feature: work_type_Never_worked , Score: -1.08375\n",
      "Feature: work_type_Private , Score: -3.05537\n",
      "Feature: work_type_Self-employed , Score: -4.10350\n",
      "Feature: work_type_children , Score: -1.87241\n",
      "Feature: smoking_status_formerly smoked , Score: -3.56335\n",
      "Feature: smoking_status_never smoked , Score: -3.80393\n",
      "Feature: smoking_status_smokes , Score: -3.57438\n"
     ]
    },
    {
     "data": {
      "image/png": "[encoded data removed]",
      "text/plain": [
       "<Figure size 432x288 with 1 Axes>"
      ]
     },
     "metadata": {
      "needs_background": "light"
     },
     "output_type": "display_data"
    }
   ],
   "source": [
    "# get importance\n",
    "importance = log_clf.coef_[0]\n",
    "# summarize feature importance\n",
    "print('Feature Weights:\\n')\n",
    "for i,v in enumerate(importance):\n",
    "    print('Feature:',column_labels[i],', Score: %.5f' % (v))\n",
    "# plot feature importance\n",
    "plt.barh(column_labels, importance)\n",
    "plt.show()"
   ]
  },
  {
   "cell_type": "code",
   "execution_count": 104,
   "metadata": {},
   "outputs": [
    {
     "name": "stdout",
     "output_type": "stream",
     "text": [
      "Feature P-Values:\n",
      "\n",
      "Feature:  gender , P-Value:  0.0\n",
      "Feature:  age , P-Value:  0.0\n",
      "Feature:  hypertension , P-Value:  2.9286724678723175e-06\n",
      "Feature:  heart_disease , P-Value:  3.204286245228616e-07\n",
      "Feature:  ever_married , P-Value:  0.0004943968015329592\n",
      "Feature:  Residence_type , P-Value:  0.001138306613781781\n",
      "Feature:  avg_glucose_level , P-Value:  1.772762253415827e-05\n",
      "Feature:  bmi , P-Value:  0.8817537895251677\n",
      "Feature:  bmi_age , P-Value:  0.22904513520188452\n",
      "Feature:  glucose_age , P-Value:  0.1317661425985961\n",
      "Feature:  work_type_Govt_job , P-Value:  0.14690575930532512\n",
      "Feature:  work_type_Never_worked , P-Value:  0.0\n",
      "Feature:  work_type_Private , P-Value:  0.3142937120769993\n",
      "Feature:  work_type_Self-employed , P-Value:  0.0\n",
      "Feature:  work_type_children , P-Value:  0.0\n",
      "Feature:  smoking_status_formerly smoked , P-Value:  0.024043727094577916\n",
      "Feature:  smoking_status_never smoked , P-Value:  0.0\n",
      "Feature:  smoking_status_smokes , P-Value:  0.0\n"
     ]
    }
   ],
   "source": [
    "#p-values for logistic regression\n",
    "\n",
    "from scipy.stats import norm\n",
    "\n",
    "def logit_pvalue(model, x):\n",
    "    p = model.predict_proba(x)\n",
    "    n = len(p)\n",
    "    m = len(model.coef_[0]) + 1\n",
    "    coefs = np.concatenate([model.intercept_, model.coef_[0]])\n",
    "    x_full = np.matrix(np.insert(np.array(x), 0, 1, axis = 1))\n",
    "    ans = np.zeros((m, m))\n",
    "    for i in range(n):\n",
    "        ans = ans + np.dot(np.transpose(x_full[i, :]), x_full[i, :]) * p[i,1] * p[i, 0]\n",
    "    vcov = np.linalg.inv(np.matrix(ans))\n",
    "    se = np.sqrt(np.diag(vcov))\n",
    "    t =  coefs/se  \n",
    "    p = (1 - norm.cdf(abs(t))) * 2\n",
    "    return p\n",
    "\n",
    "print('Feature P-Values:\\n')\n",
    "\n",
    "p_vals = logit_pvalue(log_clf, X_train_bal)\n",
    "for i,l in enumerate(column_labels):\n",
    "    print('Feature: ',l,', P-Value: ', p_vals[i])\n"
   ]
  },
  {
   "cell_type": "markdown",
   "metadata": {},
   "source": [
    "## 5. PCA"
   ]
  },
  {
   "cell_type": "markdown",
   "metadata": {},
   "source": [
    "#### Analysis of Principle Components of Features"
   ]
  },
  {
   "cell_type": "code",
   "execution_count": 89,
   "metadata": {},
   "outputs": [
    {
     "data": {
      "text/plain": [
       "[<matplotlib.lines.Line2D at 0x12329b1f0>]"
      ]
     },
     "execution_count": 89,
     "metadata": {},
     "output_type": "execute_result"
    },
    {
     "data": {
      "image/png": "[encoded data removed]",
      "text/plain": [
       "<Figure size 432x288 with 1 Axes>"
      ]
     },
     "metadata": {
      "needs_background": "light"
     },
     "output_type": "display_data"
    }
   ],
   "source": [
    "from sklearn.decomposition import PCA\n",
    "\n",
    "#Apply PCA to see how many features we need to select\n",
    "\n",
    "covar_matrix = PCA(n_components = 18) \n",
    "covar_matrix.fit(X)\n",
    "\n",
    "#Calculate variance ratios\n",
    "variance = covar_matrix.explained_variance_ratio_ \n",
    "var=np.cumsum(np.round(covar_matrix.explained_variance_ratio_, decimals=3)*100)\n",
    "\n",
    "#Plot graph \n",
    "\n",
    "plt.ylabel('% Variance Explained')\n",
    "plt.xlabel('No. of Features')\n",
    "plt.title('PCA Analysis')\n",
    "plt.ylim(20,110)\n",
    "plt.xlim(0,21)\n",
    "plt.plot(var)"
   ]
  },
  {
   "cell_type": "markdown",
   "metadata": {},
   "source": [
    "#### PCA Calculation"
   ]
  },
  {
   "cell_type": "code",
   "execution_count": 90,
   "metadata": {},
   "outputs": [
    {
     "name": "stdout",
     "output_type": "stream",
     "text": [
      "['principle_component_1', 'principle_component_2', 'principle_component_3', 'principle_component_4', 'principle_component_5', 'principle_component_6', 'principle_component_7']\n"
     ]
    },
    {
     "data": {
      "text/html": [
       "<div>\n",
       "<style scoped>\n",
       "    .dataframe tbody tr th:only-of-type {\n",
       "        vertical-align: middle;\n",
       "    }\n",
       "\n",
       "    .dataframe tbody tr th {\n",
       "        vertical-align: top;\n",
       "    }\n",
       "\n",
       "    .dataframe thead th {\n",
       "        text-align: right;\n",
       "    }\n",
       "</style>\n",
       "<table border=\"1\" class=\"dataframe\">\n",
       "  <thead>\n",
       "    <tr style=\"text-align: right;\">\n",
       "      <th></th>\n",
       "      <th>principle_component_1</th>\n",
       "      <th>principle_component_2</th>\n",
       "      <th>principle_component_3</th>\n",
       "      <th>principle_component_4</th>\n",
       "      <th>principle_component_5</th>\n",
       "      <th>principle_component_6</th>\n",
       "      <th>principle_component_7</th>\n",
       "    </tr>\n",
       "  </thead>\n",
       "  <tbody>\n",
       "    <tr>\n",
       "      <th>0</th>\n",
       "      <td>3.827673</td>\n",
       "      <td>-1.120379</td>\n",
       "      <td>1.119598</td>\n",
       "      <td>0.820705</td>\n",
       "      <td>-0.384639</td>\n",
       "      <td>-0.216423</td>\n",
       "      <td>0.566778</td>\n",
       "    </tr>\n",
       "    <tr>\n",
       "      <th>1</th>\n",
       "      <td>2.139789</td>\n",
       "      <td>0.686218</td>\n",
       "      <td>-0.894086</td>\n",
       "      <td>-0.533587</td>\n",
       "      <td>-0.828092</td>\n",
       "      <td>0.595814</td>\n",
       "      <td>0.579632</td>\n",
       "    </tr>\n",
       "    <tr>\n",
       "      <th>2</th>\n",
       "      <td>1.182791</td>\n",
       "      <td>-0.483626</td>\n",
       "      <td>1.009861</td>\n",
       "      <td>0.647437</td>\n",
       "      <td>-0.326848</td>\n",
       "      <td>-0.761579</td>\n",
       "      <td>-0.452220</td>\n",
       "    </tr>\n",
       "    <tr>\n",
       "      <th>3</th>\n",
       "      <td>2.661374</td>\n",
       "      <td>-1.711523</td>\n",
       "      <td>-0.848401</td>\n",
       "      <td>-0.874546</td>\n",
       "      <td>0.411408</td>\n",
       "      <td>0.343874</td>\n",
       "      <td>-0.482985</td>\n",
       "    </tr>\n",
       "    <tr>\n",
       "      <th>4</th>\n",
       "      <td>3.450606</td>\n",
       "      <td>-1.250975</td>\n",
       "      <td>-0.338076</td>\n",
       "      <td>0.758016</td>\n",
       "      <td>-0.536565</td>\n",
       "      <td>-0.216029</td>\n",
       "      <td>0.542543</td>\n",
       "    </tr>\n",
       "  </tbody>\n",
       "</table>\n",
       "</div>"
      ],
      "text/plain": [
       "   principle_component_1  principle_component_2  principle_component_3  \\\n",
       "0               3.827673              -1.120379               1.119598   \n",
       "1               2.139789               0.686218              -0.894086   \n",
       "2               1.182791              -0.483626               1.009861   \n",
       "3               2.661374              -1.711523              -0.848401   \n",
       "4               3.450606              -1.250975              -0.338076   \n",
       "\n",
       "   principle_component_4  principle_component_5  principle_component_6  \\\n",
       "0               0.820705              -0.384639              -0.216423   \n",
       "1              -0.533587              -0.828092               0.595814   \n",
       "2               0.647437              -0.326848              -0.761579   \n",
       "3              -0.874546               0.411408               0.343874   \n",
       "4               0.758016              -0.536565              -0.216029   \n",
       "\n",
       "   principle_component_7  \n",
       "0               0.566778  \n",
       "1               0.579632  \n",
       "2              -0.452220  \n",
       "3              -0.482985  \n",
       "4               0.542543  "
      ]
     },
     "execution_count": 90,
     "metadata": {},
     "output_type": "execute_result"
    }
   ],
   "source": [
    "#create principle components that capture about 90% of variance\n",
    "num_pca = 7\n",
    "pca = PCA(n_components=num_pca)\n",
    "principleComponents = pca.fit_transform(X)\n",
    "\n",
    "pca_columns = []\n",
    "for n in range(1,num_pca+1):\n",
    "    pca_columns.append((\"principle_component_\" + str(n)))\n",
    "    \n",
    "print(pca_columns)\n",
    "\n",
    "X_pca = pd.DataFrame(data = principleComponents, columns = pca_columns)\n",
    "\n",
    "X_pca.head()"
   ]
  },
  {
   "cell_type": "code",
   "execution_count": 91,
   "metadata": {},
   "outputs": [],
   "source": [
    "#create train and test data for PCA data\n",
    "X_train_pca, X_test_pca, y_train_pca, y_test_pca = train_test_split(X_pca, y, test_size=0.2,stratify=y,random_state=42)\n",
    "\n",
    "#balance train pca dataset\n",
    "oversampler = SMOTE(random_state=42)\n",
    "X_train_bal_pca, y_train_bal_pca = oversampler.fit_resample(X_train_pca, y_train_pca)\n"
   ]
  },
  {
   "cell_type": "markdown",
   "metadata": {},
   "source": [
    "#### Testing Logistic Regression with PCA"
   ]
  },
  {
   "cell_type": "code",
   "execution_count": 92,
   "metadata": {},
   "outputs": [
    {
     "name": "stdout",
     "output_type": "stream",
     "text": [
      "train scores:\n",
      "Accuracy:  0.7744607087827426\n",
      "Precision:  0.7525700106345268\n",
      "Recall:  0.8177966101694916\n",
      "F1 Score:  0.7838286874653867\n",
      "ROC AUC:  0.7744607087827426\n"
     ]
    },
    {
     "data": {
      "image/png": "[encoded data removed]",
      "text/plain": [
       "<Figure size 432x288 with 2 Axes>"
      ]
     },
     "metadata": {
      "needs_background": "light"
     },
     "output_type": "display_data"
    },
    {
     "name": "stdout",
     "output_type": "stream",
     "text": [
      "test scores:\n",
      "Accuracy:  0.7313868613138687\n",
      "Precision:  0.12626262626262627\n",
      "Recall:  0.6944444444444444\n",
      "F1 Score:  0.2136752136752137\n",
      "ROC AUC:  0.7139402499571991\n"
     ]
    },
    {
     "data": {
      "image/png": "[encoded data removed]",
      "text/plain": [
       "<Figure size 432x288 with 2 Axes>"
      ]
     },
     "metadata": {
      "needs_background": "light"
     },
     "output_type": "display_data"
    }
   ],
   "source": [
    "#test logistic regression with pca\n",
    "from sklearn.linear_model import LogisticRegression\n",
    "log_clf_pca = LogisticRegression(random_state=42).fit(X_train_bal_pca, y_train_bal_pca)\n",
    "\n",
    "print('train scores:')\n",
    "test_classifier(log_clf_pca, X_train_bal_pca, y_train_bal_pca)\n",
    "plt.show()\n",
    "print('test scores:')\n",
    "test_classifier(log_clf_pca, X_test_pca, y_test_pca)\n",
    "plt.show()"
   ]
  },
  {
   "cell_type": "markdown",
   "metadata": {},
   "source": [
    "## 6. Cross-Validation"
   ]
  },
  {
   "cell_type": "markdown",
   "metadata": {},
   "source": [
    "In order to optimize values for my classifiers, and tune hyperparameters, I have chosen to use sklearn's gridsearchCV to perform cross-validation and optimization, using ROC AUC as my metric of choice. "
   ]
  },
  {
   "cell_type": "markdown",
   "metadata": {},
   "source": [
    "## 7. Random Forest (Ensemble Method)"
   ]
  },
  {
   "cell_type": "code",
   "execution_count": 30,
   "metadata": {},
   "outputs": [],
   "source": [
    "#hyperparameter grid\n",
    "n_estimators = [100, 300, 500]\n",
    "max_depth = [5, 8, 15, 25]\n",
    "min_samples_split = [2, 5, 10, 15]\n",
    "min_samples_leaf = [1, 2, 5, 10] \n",
    "\n",
    "rf_params = dict(n_estimators = n_estimators, max_depth = max_depth,  min_samples_split = min_samples_split, min_samples_leaf = min_samples_leaf)"
   ]
  },
  {
   "cell_type": "code",
   "execution_count": 105,
   "metadata": {},
   "outputs": [],
   "source": [
    "from sklearn.ensemble import RandomForestClassifier\n",
    "from sklearn.model_selection import GridSearchCV\n",
    "from sklearn import metrics"
   ]
  },
  {
   "cell_type": "code",
   "execution_count": 36,
   "metadata": {},
   "outputs": [
    {
     "name": "stdout",
     "output_type": "stream",
     "text": [
      "Fitting 5 folds for each of 192 candidates, totalling 960 fits\n"
     ]
    }
   ],
   "source": [
    "#cross validate and train optimal random forest\n",
    "rf_grid = GridSearchCV(RandomForestClassifier(), rf_params, cv = 5, verbose = 1, scoring=metrics.roc_auc_score, n_jobs=-1)\n",
    "rf_clf = rf_grid.fit(X_train_bal, y_train_bal)\n"
   ]
  },
  {
   "cell_type": "code",
   "execution_count": null,
   "metadata": {},
   "outputs": [],
   "source": [
    "#do the same for pca data\n",
    "rf_grid_pca = GridSearchCV(RandomForestClassifier(), rf_params, cv = 5, verbose = 1, scoring=metrics.roc_auc_score, n_jobs=-1)\n",
    "rf_clf_pca = rf_grid_pca.fit(X_train_bal_pca, y_train_bal_pca)"
   ]
  },
  {
   "cell_type": "code",
   "execution_count": 63,
   "metadata": {},
   "outputs": [
    {
     "name": "stdout",
     "output_type": "stream",
     "text": [
      "Best Params for RF:\n",
      "{'max_depth': 5, 'min_samples_leaf': 1, 'min_samples_split': 2, 'n_estimators': 100}\n",
      "train scores:\n",
      "Accuracy:  0.8295454545454546\n",
      "Precision:  0.7843137254901961\n",
      "Recall:  0.9090909090909091\n",
      "F1 Score:  0.8421052631578948\n",
      "ROC AUC:  0.8295454545454546\n"
     ]
    },
    {
     "data": {
      "image/png": "[encoded data removed]",
      "text/plain": [
       "<Figure size 432x288 with 2 Axes>"
      ]
     },
     "metadata": {
      "needs_background": "light"
     },
     "output_type": "display_data"
    },
    {
     "name": "stdout",
     "output_type": "stream",
     "text": [
      "test scores:\n",
      "Accuracy:  0.7401459854014598\n",
      "Precision:  0.13020833333333334\n",
      "Recall:  0.6944444444444444\n",
      "F1 Score:  0.2192982456140351\n",
      "ROC AUC:  0.7185627461051189\n"
     ]
    },
    {
     "data": {
      "image/png": "[encoded data removed]",
      "text/plain": [
       "<Figure size 432x288 with 2 Axes>"
      ]
     },
     "metadata": {
      "needs_background": "light"
     },
     "output_type": "display_data"
    }
   ],
   "source": [
    "print('Best Params for RF:')\n",
    "print(rf_clf.best_params_)\n",
    "print('train scores:')\n",
    "test_classifier(rf_clf, X_train_bal, y_train_bal)\n",
    "plt.show()\n",
    "print('test scores:')\n",
    "test_classifier(rf_clf, X_test, y_test)\n",
    "plt.show()"
   ]
  },
  {
   "cell_type": "code",
   "execution_count": 64,
   "metadata": {},
   "outputs": [
    {
     "name": "stdout",
     "output_type": "stream",
     "text": [
      "Best Params for RF (PCA):\n",
      "{'max_depth': 5, 'min_samples_leaf': 1, 'min_samples_split': 2, 'n_estimators': 100}\n",
      "train scores:\n",
      "Accuracy:  0.8370570107858244\n",
      "Precision:  0.8021408839779005\n",
      "Recall:  0.8948382126348228\n",
      "F1 Score:  0.8459577567370721\n",
      "ROC AUC:  0.8370570107858243\n"
     ]
    },
    {
     "data": {
      "image/png": "[encoded data removed]",
      "text/plain": [
       "<Figure size 432x288 with 2 Axes>"
      ]
     },
     "metadata": {
      "needs_background": "light"
     },
     "output_type": "display_data"
    },
    {
     "name": "stdout",
     "output_type": "stream",
     "text": [
      "test scores:\n",
      "Accuracy:  0.7722627737226277\n",
      "Precision:  0.12962962962962962\n",
      "Recall:  0.5833333333333334\n",
      "F1 Score:  0.2121212121212121\n",
      "ROC AUC:  0.6830380071905496\n"
     ]
    },
    {
     "data": {
      "image/png": "[encoded data removed]",
      "text/plain": [
       "<Figure size 432x288 with 2 Axes>"
      ]
     },
     "metadata": {
      "needs_background": "light"
     },
     "output_type": "display_data"
    }
   ],
   "source": [
    "print('Best Params for RF (PCA):')\n",
    "print(rf_clf_pca.best_params_)\n",
    "print('train scores:')\n",
    "test_classifier(rf_clf_pca, X_train_bal_pca, y_train_bal_pca)\n",
    "plt.show()\n",
    "print('test scores:')\n",
    "test_classifier(rf_clf_pca, X_test_pca, y_test_pca)\n",
    "plt.show()"
   ]
  },
  {
   "cell_type": "markdown",
   "metadata": {},
   "source": [
    "## 8. Neural Network:"
   ]
  },
  {
   "cell_type": "code",
   "execution_count": 93,
   "metadata": {},
   "outputs": [],
   "source": [
    "from sklearn.neural_network import MLPClassifier\n",
    "\n",
    "alpha = [0.0001,0.01, 1, 10]\n",
    "activation = ['relu','tanh']\n",
    "hidden_layer_sizes = [(5,),(10,),(10,10),(100,),(20,20,20)]\n",
    "\n",
    "neural_network = MLPClassifier(solver='lbfgs',random_state=42)\n",
    "nn_params = dict(alpha=alpha, activation=activation, hidden_layer_sizes=hidden_layer_sizes)"
   ]
  },
  {
   "cell_type": "code",
   "execution_count": 94,
   "metadata": {},
   "outputs": [
    {
     "name": "stdout",
     "output_type": "stream",
     "text": [
      "Fitting 5 folds for each of 40 candidates, totalling 200 fits\n"
     ]
    }
   ],
   "source": [
    "import warnings\n",
    "warnings.filterwarnings('ignore')\n",
    "\n",
    "#cross validate and train optimal random forest\n",
    "nn_grid = GridSearchCV(neural_network, nn_params, cv = 5, verbose = 1, scoring=metrics.roc_auc_score, n_jobs=-1)\n",
    "nn_clf = nn_grid.fit(X_train_bal, y_train_bal)\n"
   ]
  },
  {
   "cell_type": "code",
   "execution_count": 95,
   "metadata": {},
   "outputs": [
    {
     "name": "stdout",
     "output_type": "stream",
     "text": [
      "Fitting 5 folds for each of 40 candidates, totalling 200 fits\n"
     ]
    }
   ],
   "source": [
    "import warnings\n",
    "warnings.filterwarnings('ignore')\n",
    "\n",
    "#dp the same for pca data\n",
    "nn_grid_pca = GridSearchCV(neural_network, nn_params, cv = 5, verbose = 1, scoring=metrics.roc_auc_score, n_jobs=-1)\n",
    "nn_clf_pca = nn_grid_pca.fit(X_train_bal_pca, y_train_bal_pca)"
   ]
  },
  {
   "cell_type": "code",
   "execution_count": 96,
   "metadata": {},
   "outputs": [
    {
     "name": "stdout",
     "output_type": "stream",
     "text": [
      "Best Params for NN:\n",
      "{'activation': 'relu', 'alpha': 0.0001, 'hidden_layer_sizes': (5,)}\n",
      "train scores:\n",
      "Accuracy:  0.8776964560862865\n",
      "Precision:  0.8614080353851824\n",
      "Recall:  0.900231124807396\n",
      "F1 Score:  0.8803917875306082\n",
      "ROC AUC:  0.8776964560862867\n"
     ]
    },
    {
     "data": {
      "image/png": "[encoded data removed]",
      "text/plain": [
       "<Figure size 432x288 with 2 Axes>"
      ]
     },
     "metadata": {
      "needs_background": "light"
     },
     "output_type": "display_data"
    },
    {
     "name": "stdout",
     "output_type": "stream",
     "text": [
      "test scores:\n",
      "Accuracy:  0.8189781021897811\n",
      "Precision:  0.1206896551724138\n",
      "Recall:  0.3888888888888889\n",
      "F1 Score:  0.1842105263157895\n",
      "ROC AUC:  0.6158620099298066\n"
     ]
    },
    {
     "data": {
      "image/png": "[encoded data removed]",
      "text/plain": [
       "<Figure size 432x288 with 2 Axes>"
      ]
     },
     "metadata": {
      "needs_background": "light"
     },
     "output_type": "display_data"
    }
   ],
   "source": [
    "print('Best Params for NN:')\n",
    "print(nn_clf.best_params_)\n",
    "print('train scores:')\n",
    "test_classifier(nn_clf, X_train_bal, y_train_bal)\n",
    "plt.show()\n",
    "print('test scores:')\n",
    "test_classifier(nn_clf, X_test, y_test)\n",
    "plt.show()"
   ]
  },
  {
   "cell_type": "code",
   "execution_count": 97,
   "metadata": {},
   "outputs": [
    {
     "name": "stdout",
     "output_type": "stream",
     "text": [
      "Best Params for NN (PCA):\n",
      "{'activation': 'relu', 'alpha': 0.0001, 'hidden_layer_sizes': (5,)}\n",
      "train scores:\n",
      "Accuracy:  0.812788906009245\n",
      "Precision:  0.7839160839160839\n",
      "Recall:  0.8636363636363636\n",
      "F1 Score:  0.8218475073313782\n",
      "ROC AUC:  0.812788906009245\n"
     ]
    },
    {
     "data": {
      "image/png": "[encoded data removed]",
      "text/plain": [
       "<Figure size 432x288 with 2 Axes>"
      ]
     },
     "metadata": {
      "needs_background": "light"
     },
     "output_type": "display_data"
    },
    {
     "name": "stdout",
     "output_type": "stream",
     "text": [
      "test scores:\n",
      "Accuracy:  0.7386861313868613\n",
      "Precision:  0.11351351351351352\n",
      "Recall:  0.5833333333333334\n",
      "F1 Score:  0.19004524886877827\n",
      "ROC AUC:  0.6653184386235235\n"
     ]
    },
    {
     "data": {
      "image/png": "[encoded data removed]",
      "text/plain": [
       "<Figure size 432x288 with 2 Axes>"
      ]
     },
     "metadata": {
      "needs_background": "light"
     },
     "output_type": "display_data"
    }
   ],
   "source": [
    "print('Best Params for NN (PCA):')\n",
    "print(nn_clf_pca.best_params_)\n",
    "print('train scores:')\n",
    "test_classifier(nn_clf_pca, X_train_bal_pca, y_train_bal_pca)\n",
    "plt.show()\n",
    "print('test scores:')\n",
    "test_classifier(nn_clf_pca, X_test_pca, y_test_pca)\n",
    "plt.show()"
   ]
  },
  {
   "cell_type": "markdown",
   "metadata": {},
   "source": [
    "## 9. Custom Model"
   ]
  },
  {
   "cell_type": "markdown",
   "metadata": {},
   "source": [
    "My results with random forest have prompted me to look into xgboost, an ensemble method based on decision trees that has appears popular right now."
   ]
  },
  {
   "cell_type": "code",
   "execution_count": 47,
   "metadata": {},
   "outputs": [
    {
     "name": "stdout",
     "output_type": "stream",
     "text": [
      "100%|██████████| 100/100 [01:01<00:00,  1.62trial/s, best loss: -0.8136232673738103]\n",
      "{'colsample_bytree': 0.6000000000000001, 'gamma': 0.4, 'learning_rate': 0.5, 'max_depth': 9.0, 'min_child_weight': 18.0, 'n_estimators': 120.0, 'subsample': 0.2}\n"
     ]
    }
   ],
   "source": [
    "from hyperopt import fmin, tpe, hp, STATUS_OK, Trials\n",
    "from sklearn.model_selection import cross_val_score\n",
    "import xgboost as xgb\n",
    "\n",
    "#set up input space of xgboost hyperparameters\n",
    "space={ 'max_depth' : hp.quniform('max_depth', 3, 10, 1),\n",
    "        'learning_rate' : hp.quniform('learning_rate', 0.05, 0.5, 0.05),\n",
    "        'n_estimators' : hp.quniform('n_estimators', 20, 200, 10),\n",
    "        'gamma' : hp.quniform('gamma', 0, 0.50, 0.1),\n",
    "        'min_child_weight' : hp.quniform('min_child_weight', 1, 20, 1),\n",
    "        'subsample' : hp.quniform('subsample', 0.1, 1, 0.1),\n",
    "        'colsample_bytree' : hp.quniform('colsample_bytree', 0.1, 1.0, 0.1)       \n",
    "        }\n",
    "\n",
    "#set up objective function\n",
    "def hp_tuning(space):\n",
    "  XGB_clf = xgb.XGBClassifier(max_depth = int(space['max_depth']),\n",
    "                                    learning_rate = space['max_depth'],\n",
    "                                    n_estimators = int(space['n_estimators']), \n",
    "                                    gamma = space['gamma'],\n",
    "                                    min_child_weight=space['min_child_weight'],\n",
    "                                    subsample=space['subsample'],\n",
    "                                    colsample_bytree=space['colsample_bytree'],\n",
    "                                    eval_metric='auc'\n",
    "                                    )\n",
    "  \n",
    "  cv_score = -np.mean(cross_val_score(XGB_clf, X_train_bal, y_train_bal, cv=5, scoring='roc_auc'))\n",
    "  return {'loss':cv_score, 'status': STATUS_OK}\n",
    "\n",
    "trials=Trials()\n",
    "\n",
    "#perform tuning\n",
    "best = fmin(fn=hp_tuning,\n",
    "            space=space,\n",
    "            algo=tpe.suggest,\n",
    "            max_evals=100, \n",
    "            trials=trials)\n",
    "print(best)"
   ]
  },
  {
   "cell_type": "code",
   "execution_count": 48,
   "metadata": {},
   "outputs": [
    {
     "name": "stdout",
     "output_type": "stream",
     "text": [
      "Accuracy:  0.7679121725731896\n",
      "Precision:  0.7353637901861252\n",
      "Recall:  0.8370570107858244\n",
      "F1 Score:  0.7829219960367502\n",
      "ROC AUC:  0.7679121725731896\n",
      "Accuracy:  0.7036496350364964\n",
      "Precision:  0.1187214611872146\n",
      "Recall:  0.7222222222222222\n",
      "F1 Score:  0.20392156862745098\n",
      "ROC AUC:  0.7124208183530218\n"
     ]
    },
    {
     "data": {
      "image/png": "[encoded data removed]",
      "text/plain": [
       "<Figure size 432x288 with 2 Axes>"
      ]
     },
     "metadata": {
      "needs_background": "light"
     },
     "output_type": "display_data"
    },
    {
     "data": {
      "image/png": "[encoded data removed]",
      "text/plain": [
       "<Figure size 432x288 with 2 Axes>"
      ]
     },
     "metadata": {
      "needs_background": "light"
     },
     "output_type": "display_data"
    }
   ],
   "source": [
    "best_xgb = xgb.XGBClassifier(max_depth = int(best['max_depth']),\n",
    "                                    learning_rate = best['max_depth'],\n",
    "                                    n_estimators = int(best['n_estimators']), \n",
    "                                    gamma = best['gamma'],\n",
    "                                    min_child_weight=best['min_child_weight'],\n",
    "                                    subsample=best['subsample'],\n",
    "                                    colsample_bytree=best['colsample_bytree'],\n",
    "                                    eval_metric='auc'\n",
    "                                    )\n",
    "\n",
    "best_xgb.fit(X_train_bal, y_train_bal)"
   ]
  },
  {
   "cell_type": "code",
   "execution_count": 49,
   "metadata": {},
   "outputs": [
    {
     "name": "stdout",
     "output_type": "stream",
     "text": [
      "Train Scores XGB:\n",
      "Accuracy:  0.7679121725731896\n",
      "Precision:  0.7353637901861252\n",
      "Recall:  0.8370570107858244\n",
      "F1 Score:  0.7829219960367502\n",
      "ROC AUC:  0.7679121725731896\n"
     ]
    },
    {
     "data": {
      "image/png": "[encoded data removed]",
      "text/plain": [
       "<Figure size 432x288 with 2 Axes>"
      ]
     },
     "metadata": {
      "needs_background": "light"
     },
     "output_type": "display_data"
    }
   ],
   "source": [
    "print('Train Scores XGB:')\n",
    "test_classifier(best_xgb, X_train_bal, y_train_bal)"
   ]
  },
  {
   "cell_type": "code",
   "execution_count": 50,
   "metadata": {},
   "outputs": [
    {
     "name": "stdout",
     "output_type": "stream",
     "text": [
      "Test Scores XGB:\n",
      "Accuracy:  0.7036496350364964\n",
      "Precision:  0.1187214611872146\n",
      "Recall:  0.7222222222222222\n",
      "F1 Score:  0.20392156862745098\n",
      "ROC AUC:  0.7124208183530218\n"
     ]
    },
    {
     "data": {
      "image/png": "[encoded data removed]",
      "text/plain": [
       "<Figure size 432x288 with 2 Axes>"
      ]
     },
     "metadata": {
      "needs_background": "light"
     },
     "output_type": "display_data"
    }
   ],
   "source": [
    "print('Test Scores XGB:')\n",
    "test_classifier(best_xgb, X_test, y_test)"
   ]
  },
  {
   "cell_type": "code",
   "execution_count": 64,
   "metadata": {},
   "outputs": [
    {
     "name": "stdout",
     "output_type": "stream",
     "text": [
      "100%|██████████| 100/100 [02:30<00:00,  1.51s/trial, best loss: -0.8114191049872161]\n",
      "{'colsample_bytree': 0.7000000000000001, 'gamma': 0.0, 'learning_rate': 0.25, 'max_depth': 7.0, 'min_child_weight': 17.0, 'n_estimators': 110.0, 'subsample': 0.2}\n"
     ]
    }
   ],
   "source": [
    "#set up objective function\n",
    "def hp_tuning_pca(space):\n",
    "  XGB_clf_pca = xgb.XGBClassifier(max_depth = int(space['max_depth']),\n",
    "                                    learning_rate = space['max_depth'],\n",
    "                                    n_estimators = int(space['n_estimators']), \n",
    "                                    gamma = space['gamma'],\n",
    "                                    min_child_weight=space['min_child_weight'],\n",
    "                                    subsample=space['subsample'],\n",
    "                                    colsample_bytree=space['colsample_bytree'],\n",
    "                                    eval_metric='auc'\n",
    "                                    )\n",
    "  \n",
    "  cv_score = -np.mean(cross_val_score(XGB_clf_pca, X_train_bal_pca, y_train_bal_pca, cv=5, scoring='roc_auc'))\n",
    "  return {'loss':cv_score, 'status': STATUS_OK}\n",
    "\n",
    "trials=Trials()\n",
    "\n",
    "#perform tuning\n",
    "best_pca = fmin(fn=hp_tuning_pca,\n",
    "            space=space,\n",
    "            algo=tpe.suggest,\n",
    "            max_evals=100, \n",
    "            trials=trials)\n",
    "print(best_pca)"
   ]
  },
  {
   "cell_type": "code",
   "execution_count": 65,
   "metadata": {},
   "outputs": [
    {
     "data": {
      "text/plain": [
       "XGBClassifier(base_score=0.5, booster='gbtree', colsample_bylevel=1,\n",
       "              colsample_bynode=1, colsample_bytree=0.7000000000000001,\n",
       "              eval_metric='auc', gamma=0.0, gpu_id=-1, importance_type='gain',\n",
       "              interaction_constraints='', learning_rate=7.0, max_delta_step=0,\n",
       "              max_depth=7, min_child_weight=17.0, missing=nan,\n",
       "              monotone_constraints='()', n_estimators=110, n_jobs=4,\n",
       "              num_parallel_tree=1, random_state=0, reg_alpha=0, reg_lambda=1,\n",
       "              scale_pos_weight=1, subsample=0.2, tree_method='exact',\n",
       "              validate_parameters=1, verbosity=None)"
      ]
     },
     "execution_count": 65,
     "metadata": {},
     "output_type": "execute_result"
    }
   ],
   "source": [
    "best_xgb_pca = xgb.XGBClassifier(max_depth = int(best_pca['max_depth']),\n",
    "                                    learning_rate = best_pca['max_depth'],\n",
    "                                    n_estimators = int(best_pca['n_estimators']), \n",
    "                                    gamma = best_pca['gamma'],\n",
    "                                    min_child_weight=best_pca['min_child_weight'],\n",
    "                                    subsample=best_pca['subsample'],\n",
    "                                    colsample_bytree=best_pca['colsample_bytree'],\n",
    "                                    eval_metric='auc'\n",
    "                                    )\n",
    "\n",
    "best_xgb_pca.fit(X_train_bal_pca, y_train_bal_pca)"
   ]
  },
  {
   "cell_type": "code",
   "execution_count": 66,
   "metadata": {},
   "outputs": [
    {
     "name": "stdout",
     "output_type": "stream",
     "text": [
      "Train Scores XGB:\n",
      "Accuracy:  0.5\n",
      "Precision:  0.5\n",
      "Recall:  1.0\n",
      "F1 Score:  0.6666666666666666\n",
      "ROC AUC:  0.5\n"
     ]
    },
    {
     "data": {
      "image/png": "[encoded data removed]",
      "text/plain": [
       "<Figure size 432x288 with 2 Axes>"
      ]
     },
     "metadata": {
      "needs_background": "light"
     },
     "output_type": "display_data"
    }
   ],
   "source": [
    "print('Train Scores XGB:')\n",
    "test_classifier(best_xgb_pca, X_train_bal_pca, y_train_bal_pca)"
   ]
  },
  {
   "cell_type": "code",
   "execution_count": 67,
   "metadata": {},
   "outputs": [
    {
     "name": "stdout",
     "output_type": "stream",
     "text": [
      "Test Scores XGB:\n",
      "Accuracy:  0.052554744525547446\n",
      "Precision:  0.052554744525547446\n",
      "Recall:  1.0\n",
      "F1 Score:  0.09986130374479889\n",
      "ROC AUC:  0.5\n"
     ]
    },
    {
     "data": {
      "image/png": "[encoded data removed]",
      "text/plain": [
       "<Figure size 432x288 with 2 Axes>"
      ]
     },
     "metadata": {
      "needs_background": "light"
     },
     "output_type": "display_data"
    }
   ],
   "source": [
    "print('Test Scores XGB:')\n",
    "test_classifier(best_xgb_pca, X_test_pca, y_test_pca)"
   ]
  }
 ],
 "metadata": {
  "kernelspec": {
   "display_name": "Python 3",
   "language": "python",
   "name": "python3"
  },
  "language_info": {
   "codemirror_mode": {
    "name": "ipython",
    "version": 3
   },
   "file_extension": ".py",
   "mimetype": "text/x-python",
   "name": "python",
   "nbconvert_exporter": "python",
   "pygments_lexer": "ipython3",
   "version": "3.9.2"
  }
 },
 "nbformat": 4,
 "nbformat_minor": 2
}
